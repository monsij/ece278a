{
 "cells": [
  {
   "cell_type": "markdown",
   "metadata": {
    "slideshow": {
     "slide_type": "slide"
    }
   },
   "source": [
    "# 3D Reconstruction"
   ]
  },
  {
   "cell_type": "markdown",
   "metadata": {},
   "source": [
    "\n",
    "\n",
    "| <img src=\"figs/reconstructed-1.png\" width=\"600px\" /> | <img src=\"figs/reconstructed-2.png\" width=\"600px\" /> |\n",
    "|:-------------------------------------------------------|:-------------------------------------------------------|\n",
    "| <img src=\"figs/reconstructed-3.png\" width=\"600px\" /> | <img src=\"figs/reconstructed-4.png\" width=\"600px\" /> |"
   ]
  },
  {
   "cell_type": "markdown",
   "metadata": {
    "slideshow": {
     "slide_type": "slide"
    }
   },
   "source": [
    "# Last Lecture\n",
    "\n",
    "- 01: Image Formation Models (Ch. 2)\n",
    "- 02: Image Operators and Transforms (Ch. 3)\n",
    "- 03: Feature Detection, Matching, Segmentation (Ch. 7)\n",
    "- **04: Image Alignment and Stitching (Ch. 8)**\n",
    "- 05: 3D Reconstruction (Ch. 13)\n",
    "\n",
    "We saw how to:\n",
    "- solve for geometric transformations between images,\n",
    "- use these transformation to stitch images.\n",
    "\n",
    "$\\rightarrow$ relate points of one image plane to points in the other...\n",
    "- ...without reconstructing 3D scene."
   ]
  },
  {
   "cell_type": "markdown",
   "metadata": {
    "slideshow": {
     "slide_type": "slide"
    }
   },
   "source": [
    "# This Lecture\n",
    "\n",
    "- 01: Image Formation Models (Ch. 2)\n",
    "- 02: Image Operators and Transforms (Ch. 3)\n",
    "- 03: Feature Detection, Matching, Segmentation (Ch. 7)\n",
    "- 04: Image Alignment and Stitching (Ch. 8)\n",
    "- **05: 3D Reconstruction (Ch. 13)**\n",
    "\n",
    "\n",
    "$\\rightarrow$ Now, we reconstruct the 3D scene.\n"
   ]
  },
  {
   "cell_type": "markdown",
   "metadata": {
    "slideshow": {
     "slide_type": "slide"
    }
   },
   "source": [
    "# Some Images Are Already 3D...\n",
    "\n",
    "<center><img src=\"figs/05_brains.jpeg\" width=800px alt=\"default\"/></center>\n",
    "\n"
   ]
  },
  {
   "cell_type": "markdown",
   "metadata": {
    "slideshow": {
     "slide_type": "slide"
    }
   },
   "source": [
    "# ...But most of them are not\n",
    "\n",
    "<center><img src=\"figs/05_sfm_ex.png\" width=1200px alt=\"default\"/></center>"
   ]
  },
  {
   "cell_type": "markdown",
   "metadata": {
    "slideshow": {
     "slide_type": "slide"
    }
   },
   "source": [
    "# ...But most of them are not\n",
    "\n",
    "<center><img src=\"figs/05_cryoem.png\" width=900px alt=\"default\"/></center>"
   ]
  },
  {
   "cell_type": "markdown",
   "metadata": {
    "slideshow": {
     "slide_type": "slide"
    }
   },
   "source": [
    "# Projection operator\n",
    "\n",
    "- Computer vision: See only one side of objects\n",
    "- Biological Imaging: Very often there is an integration\n",
    "\n",
    "<center><img src=\"figs/05_sfm_ex.png\" width=400px alt=\"default\"/></center>"
   ]
  },
  {
   "cell_type": "markdown",
   "metadata": {
    "slideshow": {
     "slide_type": "slide"
    }
   },
   "source": [
    "# Projection operator\n",
    "\n",
    "- Computer vision: See only one side of objects\n",
    "- Biological Imaging: Very often there is an integration\n",
    "\n",
    "<center><img src=\"figs/05_cryoem.png\" width=600px alt=\"default\"/></center>"
   ]
  },
  {
   "cell_type": "markdown",
   "metadata": {
    "slideshow": {
     "slide_type": "slide"
    }
   },
   "source": [
    "# Recall: Image Formation Model\n",
    "\n",
    "\n",
    "<center><img src=\"figs/05_triang.png\" width=900px alt=\"default\"/></center>"
   ]
  },
  {
   "cell_type": "markdown",
   "metadata": {
    "slideshow": {
     "slide_type": "slide"
    }
   },
   "source": [
    "# Projection in Image Formation Model\n",
    "\n",
    "The projection of a real world point $P$ to the digital image plane is:\n",
    "$$p \n",
    "= \n",
    "K  \\begin{bmatrix}\n",
    "I_3 & 0\n",
    "\\end{bmatrix}\n",
    "\\begin{bmatrix}\n",
    "R & T \\\\\n",
    "0 & 1\n",
    "\\end{bmatrix} P\n",
    "= M P\n",
    "$$\n",
    "\n",
    "where:\n",
    "- $M$ is the  projection matrix, composed of:\n",
    "  - $K$ the intrinsic camera matrix,\n",
    "  - $R$ the extrinsic rotation,\n",
    "  - $t$ the extrinsic translation.\n",
    "  \n",
    "  \n",
    "<center><img src=\"figs/05_triang.png\" width=300px alt=\"default\"/></center>"
   ]
  },
  {
   "cell_type": "markdown",
   "metadata": {
    "slideshow": {
     "slide_type": "slide"
    }
   },
   "source": [
    "# 3D Reconstruction\n",
    "\n",
    "- **[Triangulation](#sec-syllabus)**\n",
    "  - Lines of Sight\n",
    "  - Linear method\n",
    "  - Non-linear method\n",
    "  \n",
    "- [Structure from Motion](#sec-ece)\n",
    "\n",
    "- [Active and Volumetric Stereo](#sec-ece)\n",
    "\n",
    "- [Reconstruction in Biology (invited speaker)](#sec-ece)"
   ]
  },
  {
   "cell_type": "markdown",
   "metadata": {
    "slideshow": {
     "slide_type": "slide"
    }
   },
   "source": [
    "\n",
    "# Triangulation\n",
    "\n",
    "$\\color{#EF5645}{\\text{Triangulation}}$ is the process of determining the location of a 3D point $P$ given its projections $p$ and $p'$ into two images. It can be extended to >2 images.\n",
    "\n",
    "\n",
    "<center><img src=\"figs/05_triang.png\" width=900px alt=\"default\"/></center>"
   ]
  },
  {
   "cell_type": "markdown",
   "metadata": {
    "slideshow": {
     "slide_type": "slide"
    }
   },
   "source": [
    "# 3D Reconstruction\n",
    "\n",
    "- **[Triangulation](#sec-syllabus)**\n",
    "  - **Lines of Sight**\n",
    "  - Linear method\n",
    "  - Non-linear method\n",
    "  \n",
    "- [Structure from Motion](#sec-ece)\n",
    "\n",
    "- [Active and Volumetric Stereo](#sec-ece)\n",
    "\n",
    "- [Reconstruction in Biology (invited speaker)](#sec-ece)"
   ]
  },
  {
   "cell_type": "markdown",
   "metadata": {
    "slideshow": {
     "slide_type": "slide"
    }
   },
   "source": [
    "# Triangulation via Lines of Sight\n",
    "\n",
    "Given:\n",
    "- 2 cameras with known camera intrinsic parameters K and K′,\n",
    "- relative extrinsic rotation and translation R, T of these cameras.\n",
    "- 2 locations $p, p'$ of an unknown point $P$ in the 2 image planes.\n",
    "\n",
    "Triangulation determines the 3D location of $P$ by computing:\n",
    "- the two \"lines of sight\": defined by the camera centers O1, O2 and the image locations p, p′,\n",
    "- their intersection.\n"
   ]
  },
  {
   "cell_type": "markdown",
   "metadata": {
    "slideshow": {
     "slide_type": "slide"
    }
   },
   "source": [
    "\n",
    "# Triangulation via Lines of Sight: Limitations\n",
    "\n",
    "In pratice:\n",
    "\n",
    "<center><img src=\"figs/05_triang_pb.png\" width=700px alt=\"default\"/></center>\n"
   ]
  },
  {
   "cell_type": "markdown",
   "metadata": {
    "slideshow": {
     "slide_type": "slide"
    }
   },
   "source": [
    "# Triangulation via Lines of Sight: Limitations\n",
    "\n",
    "This process does not work very well in practice, because:\n",
    "- p and p′ are noisy,\n",
    "- the camera calibration parameters are not precise.\n",
    "\n",
    "Thus, finding the intersection point may be:\n",
    "- problematic,\n",
    "- impossible: two lines may never intersect (most often)."
   ]
  },
  {
   "cell_type": "markdown",
   "metadata": {
    "slideshow": {
     "slide_type": "slide"
    }
   },
   "source": [
    "# 3D Reconstruction\n",
    "\n",
    "- **[Triangulation](#sec-syllabus)**\n",
    "  - Lines of Sight\n",
    "  - **Linear method**\n",
    "  - Non-linear method\n",
    "  \n",
    "- [Structure from Motion](#sec-ece)\n",
    "\n",
    "- [Active and Volumetric Stereo](#sec-ece)\n",
    "\n",
    "- [Reconstruction in Biology (invited speaker)](#sec-ece)"
   ]
  },
  {
   "cell_type": "markdown",
   "metadata": {
    "slideshow": {
     "slide_type": "slide"
    }
   },
   "source": [
    "# Triangulation \n",
    "\n",
    "<center><img src=\"figs/05_triang.png\" width=800px alt=\"default\"/></center>"
   ]
  },
  {
   "cell_type": "markdown",
   "metadata": {
    "slideshow": {
     "slide_type": "slide"
    }
   },
   "source": [
    "# Set-up\n",
    "\n",
    "Given:\n",
    "- 2 cameras with known camera intrinsic parameters K and K′,\n",
    "- relative extrinsic rotation and translation R, T of these cameras.\n",
    "- 2 locations $p, p'$ of an unknown point $P$ in the 2 image planes.\n",
    "\n",
    "We write:\n",
    "- $p = MP = (x, y, 1)$ and $p' = M'P = (x', y', 1)$:\n",
    "  - with $M, M'$ projection matrices of the two cameras.\n",
    "\n",
    "Note: $P$ is unknown.\n",
    "\n",
    "<center><img src=\"figs/05_triang.png\" width=500px alt=\"default\"/></center>"
   ]
  },
  {
   "cell_type": "markdown",
   "metadata": {
    "slideshow": {
     "slide_type": "slide"
    }
   },
   "source": [
    "# Triangulation via Solving a Linear System\n",
    "\n",
    "We can form a system of linear equations by writing: \n",
    "- $p \\times MP = 0$: necessary condition for $p = MP$\n",
    "- $p' \\times M'P = 0$: necessary condition for $p' = M'P$\n",
    "\n",
    "The equation $p \\times MP = 0$ in $P$ gives:\n",
    "$$\\begin{align*}\n",
    "x(M_3P ) − (M_1P ) &= 0  \\\\\n",
    "y(M_3P ) − (M_2P ) &= 0 \\\\\n",
    "x(M_2P ) − y'(M_1P ) &= 0\n",
    "\\end{align*}$$\n",
    "where $M_i$ is the ith row of the projection matrix $M$."
   ]
  },
  {
   "cell_type": "markdown",
   "metadata": {
    "slideshow": {
     "slide_type": "slide"
    }
   },
   "source": [
    "# Triangulation via Solving a Linear System\n",
    "\n",
    "Combining these questions gives the system $AP = 0$ in $P$ where:\n",
    "\n",
    "$$A = \\begin{bmatrix}\n",
    "x M_3 - M_1 \\\\\n",
    "y M_3 - M_2 \\\\\n",
    "x' M'_3 - M'_1 \\\\\n",
    "y'M'_3 - M_2'\n",
    "\\end{bmatrix}$$\n",
    "\n",
    "which can be solved to give an estimate of $P$."
   ]
  },
  {
   "cell_type": "markdown",
   "metadata": {
    "slideshow": {
     "slide_type": "slide"
    }
   },
   "source": [
    "# From 2 to Multiple Cameras\n",
    "\n",
    "Contrarily to the method using the lines of sight, this method can handle multiple cameras as well. \n",
    "- Appends additional rows to A corresponding to the added constraints.\n"
   ]
  },
  {
   "cell_type": "markdown",
   "metadata": {
    "slideshow": {
     "slide_type": "slide"
    }
   },
   "source": [
    "# 3D Reconstruction\n",
    "\n",
    "- **[Triangulation](#sec-syllabus)**\n",
    "  - Lines of Sight\n",
    "  - Linear method\n",
    "  - **Non-linear method**\n",
    "  \n",
    "- [Structure from Motion](#sec-ece)\n",
    "\n",
    "- [Active and Volumetric Stereo](#sec-ece)\n",
    "\n",
    "- [Reconstruction in Biology (invited speaker)](#sec-ece)"
   ]
  },
  {
   "cell_type": "markdown",
   "metadata": {
    "slideshow": {
     "slide_type": "slide"
    }
   },
   "source": [
    "# Triangulation \n",
    "\n",
    "<center><img src=\"figs/05_triang.png\" width=800px alt=\"default\"/></center>"
   ]
  },
  {
   "cell_type": "markdown",
   "metadata": {
    "slideshow": {
     "slide_type": "slide"
    }
   },
   "source": [
    "# From Linear Method to Nonlinear Method\n",
    "\n",
    "With previous method:\n",
    "- we solve $p \\times MP = 0$ in $P$, (necessary for $p = MP$),\n",
    "- together with $p' \\times M'P = 0$ in $P$, (necessary for $p' = M'P$)\n",
    "\n",
    "With this method:\n",
    "- we minimize $|| p - MP ||^2$ in $P$.\n",
    "- together with $|| p' - M'P ||^2$ in $P$."
   ]
  },
  {
   "cell_type": "markdown",
   "metadata": {
    "slideshow": {
     "slide_type": "slide"
    }
   },
   "source": [
    "# Reprojection Error"
   ]
  },
  {
   "cell_type": "markdown",
   "metadata": {},
   "source": [
    "$\\color{#EF5645}{\\text{The reprojection error}}$ for a 3D point $P$ in an image is the distance between the projection of that point in the image and the corresponding observed point in the image plane.\n",
    "\n",
    " \n",
    "<center><img src=\"figs/05_triang_pb.png\" width=700px alt=\"default\"/></center>\n",
    "\n",
    "$\\color{#047C91}{\\text{Example}}$: The reprojection error for the first image is the distance $||MP^* - p||$."
   ]
  },
  {
   "cell_type": "markdown",
   "metadata": {
    "slideshow": {
     "slide_type": "slide"
    }
   },
   "source": [
    "# Triangulation as a Minimization\n",
    "\n",
    "The triangulation problem for real-world scenarios is often formulated as the minimization of the squared reprojection errors:\n",
    "$$ \\min_P ||MP - p||^2 + ||M'P - p'||^2$$\n",
    "\n",
    "There are many sophisticated schemes to conduct this optimization in practice."
   ]
  },
  {
   "cell_type": "markdown",
   "metadata": {
    "slideshow": {
     "slide_type": "slide"
    }
   },
   "source": [
    "# From 2 to Multiple Cameras\n",
    "\n",
    "This method can handle multiple cameras as well. \n",
    "- Add more reprojection errors to the objective function:\n",
    "\n",
    "$$\\min_P \\sum_{i} ||M_i P - p_i||^2.$$\n"
   ]
  },
  {
   "cell_type": "markdown",
   "metadata": {
    "slideshow": {
     "slide_type": "slide"
    }
   },
   "source": [
    "# 3D Reconstruction\n",
    "\n",
    "- [Triangulation](#sec-syllabus)\n",
    "  \n",
    "- **[Structure from Motion](#sec-ece)**\n",
    "  - Affine\n",
    "  - Projective\n",
    "\n",
    "- [Active and Volumetric Stereo](#sec-ece)\n",
    "\n",
    "- [Reconstruction in Biology (invited speaker)](#sec-ece)"
   ]
  },
  {
   "cell_type": "markdown",
   "metadata": {
    "slideshow": {
     "slide_type": "slide"
    }
   },
   "source": [
    "# Towards Estimating Scene and Camera Parameters\n",
    "\n",
    "Before:\n",
    "- we assumed that camera parameters were known\n",
    "- we estimated 3D point from the scene $P$\n",
    "\n",
    "Now:\n",
    "- we estimate both together\n",
    "\n"
   ]
  },
  {
   "cell_type": "markdown",
   "metadata": {
    "slideshow": {
     "slide_type": "slide"
    }
   },
   "source": [
    "\n",
    "For example, from the 2D points like below...\n",
    "\n",
    "| <img src=\"figs/projected2d-1.png\" width=\"400px\" /> | <img src=\"figs/projected2d-2.png\" width=\"400px\" /> |\n",
    "|:-----------------------------------------------------|:-----------------------------------------------------|\n",
    "| <img src=\"figs/projected2d-3.png\" width=\"400px\" /> | <img src=\"figs/projected2d-4.png\" width=\"400px\" /> |\n",
    "\n"
   ]
  },
  {
   "cell_type": "markdown",
   "metadata": {
    "slideshow": {
     "slide_type": "slide"
    }
   },
   "source": [
    "We want to reconstruct the 3D object.\n",
    "\n",
    "| <img src=\"figs/reconstructed-1.png\" width=\"600px\" /> | <img src=\"figs/reconstructed-2.png\" width=\"600px\" /> |\n",
    "|:-------------------------------------------------------|:-------------------------------------------------------|\n",
    "| <img src=\"figs/reconstructed-3.png\" width=\"600px\" /> | <img src=\"figs/reconstructed-4.png\" width=\"600px\" /> |"
   ]
  },
  {
   "cell_type": "markdown",
   "metadata": {
    "slideshow": {
     "slide_type": "slide"
    }
   },
   "source": [
    "# Examples: Monuments\n",
    "\n",
    "<center><img src=\"figs/05_sfm_ex.png\" width=800px alt=\"default\"/></center>"
   ]
  },
  {
   "cell_type": "markdown",
   "metadata": {
    "slideshow": {
     "slide_type": "slide"
    }
   },
   "source": [
    "# Examples: Robotics\n",
    "\n",
    "<center><img src=\"figs/05_sfm_ex2.jpeg\" width=600px alt=\"default\"/></center>"
   ]
  },
  {
   "cell_type": "markdown",
   "metadata": {
    "slideshow": {
     "slide_type": "slide"
    }
   },
   "source": [
    "# Structure from Motion\n",
    "\n",
    "$\\color{#EF5645}{\\text{Structure from Motion}}$ is a class of methods that simultaneously determine both the 3D structure of the scene and the parameters of the cameras.\n",
    "\n",
    "\n",
    "<center><img src=\"figs/05_sfm.png\" width=700px alt=\"default\"/></center>\n",
    "\n",
    "$\\color{#EF5645}{\\text{Remark}}$: It is called \"motion\", because this can also be from one camera moving around an object."
   ]
  },
  {
   "cell_type": "markdown",
   "metadata": {
    "slideshow": {
     "slide_type": "slide"
    }
   },
   "source": [
    "# Structure from Motion: Notations\n",
    "\n",
    "$\\color{#EF5645}{\\text{Notations}}$: We have:\n",
    "- $m$ cameras with projection matrices $M_i$, $i=1, ..., m$\n",
    "- $n$ points on a 3D scene: $X_j$, $j=1, ..., n$\n",
    "\n",
    "We are given:\n",
    "- $x_{ij}$ the point representing $X_j$ in camera $i$: $x_{ij} = M_i X_j$.\n",
    "\n",
    "We want to recover:\n",
    "- structure of the scene, i.e. the $X_j$\n",
    "- camera parameters $M_i$ (often a moving camera).\n",
    "\n",
    "\n",
    "<center><img src=\"figs/05_sfm.png\" width=300px alt=\"default\"/></center>"
   ]
  },
  {
   "cell_type": "markdown",
   "metadata": {
    "slideshow": {
     "slide_type": "slide"
    }
   },
   "source": [
    "# Assumptions for SfM\n",
    "\n",
    "Depending on the class of the projection matrices, we get different SfM:\n",
    "- $\\color{#EF5645}{\\text{Affine SfM}}$: If $M$ corresponds to an affine transformation:\n",
    " - $M = \\begin{bmatrix}\n",
    "A & b \\\\\n",
    "0 & 1\n",
    "\\end{bmatrix}$ which we also write $M = \\begin{bmatrix}\n",
    "A & b \n",
    "\\end{bmatrix}$ so that $x = MX = AX +b$.\n",
    "- $\\color{#EF5645}{\\text{Projective SfM}}$: If $M$ is projective:\n",
    "  - $M = \\begin{bmatrix}\n",
    "A & b \\\\\n",
    "v & 1\n",
    "\\end{bmatrix}$"
   ]
  },
  {
   "cell_type": "markdown",
   "metadata": {
    "slideshow": {
     "slide_type": "slide"
    }
   },
   "source": [
    "# 3D Reconstruction\n",
    "\n",
    "- [Triangulation](#sec-syllabus)\n",
    "  \n",
    "- **[Structure from Motion](#sec-ece)**\n",
    "  - **Affine**\n",
    "  - Projective\n",
    "\n",
    "- [Active and Volumetric Stereo](#sec-ece)\n",
    "\n",
    "- [Reconstruction in Biology (invited speaker)](#sec-ece)"
   ]
  },
  {
   "cell_type": "markdown",
   "metadata": {
    "slideshow": {
     "slide_type": "slide"
    }
   },
   "source": [
    "# Affine SfM: Set-up\n",
    "\n",
    "\n",
    "$\\color{#EF5645}{\\text{Given:}}$ Image points $x_{ij}$ representing $X_j$ in camera $i$ with projection matrix $M_i$: \n",
    "\n",
    "$$x_{ij} = M_i X_j = A_i X_j + b_i$$\n",
    "\n",
    "$\\color{#EF5645}{\\text{Goal:}}$ Recover:\n",
    "- structure of the scene, i.e. the $X_j$\n",
    "- camera parameters $M_i$ \n",
    "\n",
    "<center><img src=\"figs/05_sfm.png\" width=500px alt=\"default\"/></center>\n"
   ]
  },
  {
   "cell_type": "markdown",
   "metadata": {
    "slideshow": {
     "slide_type": "slide"
    }
   },
   "source": [
    "# Affine SfM: Unknowns and Equations\n",
    "\n",
    "$\\color{#EF5645}{\\text{Given:}}$\n",
    "- $x_{ij}$: $2mn$ elements, which will give $2mn$ equations\n",
    "\n",
    "$\\color{#EF5645}{\\text{Goal:}}$ Recover:\n",
    "- structure of the scene, i.e. the $X_j$: $3n$ unknowns\n",
    "- camera parameters $M_i= (A_i, b_i)$: $8m$ unknowns\n",
    "\n",
    "$\\rightarrow$ there is a minimum number of $2D$ images that we need to solve this problem."
   ]
  },
  {
   "cell_type": "markdown",
   "metadata": {
    "slideshow": {
     "slide_type": "slide"
    }
   },
   "source": [
    "# Affine SfM: Unknowns and Equations\n",
    "\n",
    "The SfM problem can be solved if we have at least enough equations for the number of unknowns, i.e.\n",
    "$$2 mn \\geq 8m + 3n.$$\n",
    "\n",
    "$\\color{#047C91}{\\text{Example}}$:\n",
    "- Given that we have two cameras, i.e. $m = 2$, how many 3D points do we need?\n",
    "- Given that we have 5 $3D$ points i.e. $n=2$, how many cameras do we need?"
   ]
  },
  {
   "cell_type": "markdown",
   "metadata": {
    "slideshow": {
     "slide_type": "slide"
    }
   },
   "source": [
    "# Affine SfM: Unknowns and Equations\n",
    "\n",
    "The SfM problem can be solved if we have at least enough equations for the number of unknowns, i.e.\n",
    "$$2 mn \\geq 8m + 3n.$$\n",
    "\n",
    "$\\color{#047C91}{\\text{Example}}$:\n",
    "- Given that we have two cameras, i.e. $m = 2$, how many 3D points do we need?\n",
    " - We need $n \\geq 16$.\n",
    "- Given that we have 5 $3D$ points i.e. $n=5$, how many cameras do we need?\n",
    " - We need $m \\geq 7.5$ i.e. $m \\geq 8$."
   ]
  },
  {
   "cell_type": "markdown",
   "metadata": {
    "slideshow": {
     "slide_type": "slide"
    }
   },
   "source": [
    "# Tomasi and Kanade Factorization Method\n",
    "\n",
    "$\\color{#EF5645}{\\text{The Tomasi and Kanade Factorization Method}}$ is a method for solving the affine SfM. \n",
    "\n",
    "It consists of two steps:\n",
    "- Data centering step\n",
    "- Factorization step"
   ]
  },
  {
   "cell_type": "markdown",
   "metadata": {
    "slideshow": {
     "slide_type": "slide"
    }
   },
   "source": [
    "# Tomasi and Kanade Factorization Method\n",
    "\n",
    "$\\color{#EF5645}{\\text{The Tomasi and Kanade Factorization Method}}$ is a method for solving the affine SfM. \n",
    "\n",
    "It consists of two steps:\n",
    "- **Data centering step**\n",
    "- Factorization step"
   ]
  },
  {
   "cell_type": "markdown",
   "metadata": {
    "slideshow": {
     "slide_type": "slide"
    }
   },
   "source": [
    "# Data Centering Step\n",
    "\n",
    "Our original equations are: $x_{ij} = \\begin{bmatrix} A_i  & b_i \\end{bmatrix} X_j$, where:\n",
    "- we do not know $A_i, b_i$ and $X_j$\n",
    "\n",
    "$\\color{#EF5645}{\\text{The data centering step}}$ helps focusing the problem on first estimating:\n",
    "- the matrices $A_i$, \n",
    "- independently of the translations $b_i$,\n",
    "\n",
    "... by transforming these original equations."
   ]
  },
  {
   "cell_type": "markdown",
   "metadata": {
    "slideshow": {
     "slide_type": "slide"
    }
   },
   "source": [
    "# Data Centering Step\n",
    "\n",
    "In practice, this step centers the set of 2D image points.\n",
    "\n",
    "For each image $i$, \n",
    "  - each point $j$ is centered by substracting the mean $\\bar x_i$ of the point set:\n",
    "\n",
    "$$\\hat x_{ij} = x_{ij} - \\bar x_i = x_{ij} - \\frac{1}{n}\\sum_{k=1}^n x_{ik}.$$\n",
    "\n",
    "So that we transform our datasets of $x_{ij}$ into a dataset of $\\hat x_{ij}$."
   ]
  },
  {
   "cell_type": "markdown",
   "metadata": {
    "slideshow": {
     "slide_type": "slide"
    }
   },
   "source": [
    "# Data Centering Step\n",
    "\n",
    "This gives:\n",
    "\n",
    "$$\\begin{align*}\n",
    "\\hat x_{ij} \n",
    "&= x_{ij} - \\frac{1}{n}\\sum_{k=1}^n x_{ik} \\\\\n",
    "&= A_i X_j + b_i - \\frac{1}{n}\\sum_{k=1}^n (A_iX_k + b_i)\\\\\n",
    "&= A_i X_j - \\frac{1}{n}\\sum_{k=1}^n A_iX_k\\\\\n",
    "&= A_i (X_j - \\frac{1}{n}\\sum_{k=1}^n X_k)\\\\\n",
    "&=A_i(X_j - \\bar X)\\\\\n",
    "&=A_i\\hat X_j\n",
    "\\end{align*}\n",
    "$$\n",
    "\n"
   ]
  },
  {
   "cell_type": "markdown",
   "metadata": {
    "slideshow": {
     "slide_type": "slide"
    }
   },
   "source": [
    "# Data Centering Step\n",
    "\n",
    "Thus, our new equations are: $\\hat x_{ij} = A_i \\hat X_j$, where:\n",
    "- we do not know $A_i$ and $\\hat X_j$.\n",
    "\n",
    "$ \\rightarrow$ we eliminated the estimation of the translations $b_i$."
   ]
  },
  {
   "cell_type": "markdown",
   "metadata": {
    "slideshow": {
     "slide_type": "slide"
    }
   },
   "source": [
    "# Measurement Matrix\n",
    "\n",
    "Goal: Factor out $A_i$ and $\\hat X_j$, for all $i$ and $j$.\n",
    "\n",
    "$\\rightarrow$ Gather everything in a big matrix.\n",
    "\n",
    "$\\color{#EF5645}{\\text{The measurement matrix}}$ $D$ is defined as:\n",
    "$$D = \\begin{bmatrix}\n",
    "\\hat x_{11} & \\hat x_{12} & ... & \\hat x_{1n}\\\\\n",
    "\\hat x_{21} & \\hat x_{22} & ... & \\hat x_{2n}\\\\\n",
    "... & \\hat ... & ... & ...\\\\\n",
    "\\hat x_{m1} & \\hat x_{m2} & ... & \\hat x_{mn}\\\\\n",
    "\\end{bmatrix}\n",
    "$$\n",
    "where each $\\hat x_{ij}$ is a $2 \\times 1$ vector.\n",
    "\n",
    "This $D$ is of shape $2m \\times n$.\n",
    "\n"
   ]
  },
  {
   "cell_type": "markdown",
   "metadata": {
    "slideshow": {
     "slide_type": "slide"
    }
   },
   "source": [
    "# Measurement Matrix\n",
    "\n",
    "Thanks to the data centering step, the measurement matrix $D$ can be reformulated as:\n",
    "$$D = \\begin{bmatrix}\n",
    "A_1 \\hat X_1 & A_1 \\hat X_2 & ... & A_1 \\hat X_n\\\\\n",
    "A_2 \\hat X_1 & A_2 \\hat X_2 & ... & A_2 \\hat X_n\\\\\n",
    "... &  ... & ... & ...\\\\\n",
    "A_m \\hat X_1 & A_m \\hat X_2 & ... & A_m \\hat X_n\\\\\n",
    "\\end{bmatrix}\n",
    "$$\n",
    "\n",
    "which we write:\n",
    "$$D = MS$$"
   ]
  },
  {
   "cell_type": "markdown",
   "metadata": {
    "slideshow": {
     "slide_type": "slide"
    }
   },
   "source": [
    "# Motion Matrix\n",
    "\n",
    "In the equation $D = MS$ we have:\n",
    "- $M$ is called the $\\color{#EF5645}{\\text{motion matrix}}$ and contains all the matrices $A_i$\n",
    "- $S$ is called the structure matrix and contains all the matrices $\\hat X_j$\n",
    "\n",
    "Specifically, $M$ is the $2m \\times 3$ matrix:\n",
    "$$M = \\begin{bmatrix}\n",
    "A_1 \\\\\n",
    "... \\\\\n",
    "A_m \n",
    "\\end{bmatrix}\n",
    "$$\n",
    "since each matrix $A_i$ is $2 \\times 3$."
   ]
  },
  {
   "cell_type": "markdown",
   "metadata": {
    "slideshow": {
     "slide_type": "slide"
    }
   },
   "source": [
    "# Structure Matrix\n",
    "\n",
    "In the equation $D = MS$ we have:\n",
    "- $M$ is called the motion matrix and contains all the matrices $A_i$\n",
    "- $S$ is called the $\\color{#EF5645}{\\text{structure matrix}}$ and contains all the matrices $\\hat X_j$\n",
    "\n",
    "Specifically, $S$ is the $3 \\times n$ matrix:\n",
    "$$S = \\begin{bmatrix}\n",
    "\\hat X_1 & ... & \\hat X_n \n",
    "\\end{bmatrix}\n",
    "$$\n",
    "since each matrix $X_j$ is a 3D vector."
   ]
  },
  {
   "cell_type": "markdown",
   "metadata": {
    "slideshow": {
     "slide_type": "slide"
    }
   },
   "source": [
    "# Towards a Factorization Problem\n",
    "\n",
    "Thus, our equation writes:\n",
    "$D = MS = \\begin{bmatrix}\n",
    "A_1 \\\\\n",
    "... \\\\\n",
    "A_m \n",
    "\\end{bmatrix}\n",
    "\\begin{bmatrix}\n",
    "\\hat X_1 & ... & \\hat X_n \n",
    "\\end{bmatrix}\n",
    "$ where:\n",
    "- we do not know $M$ and $S$\n",
    "\n",
    "$\\color{#6D7D33}{\\text{Property}}$: Written as the above product, we know that:\n",
    "- $rank(D) = 3$, since $D$ is the product of two matrices of maximum dimension $3$."
   ]
  },
  {
   "cell_type": "markdown",
   "metadata": {
    "slideshow": {
     "slide_type": "slide"
    }
   },
   "source": [
    "# Tomasi and Kanade Factorization Method\n",
    "\n",
    "$\\color{#EF5645}{\\text{The Tomasi and Kanade Factorization Method}}$ is a method for solving the affine SfM. \n",
    "\n",
    "It consists of two steps:\n",
    "- Data centering step\n",
    "- **Factorization step**"
   ]
  },
  {
   "cell_type": "markdown",
   "metadata": {
    "slideshow": {
     "slide_type": "slide"
    }
   },
   "source": [
    "# Factorization via SVD\n",
    "\n",
    "We will factorize matrix $D$ using singular value decomposition:\n",
    "$$D = U \\Sigma V^T,$$\n",
    "and will recover $M$ and $S$ from combinations of $U, \\Sigma, V$.\n",
    "\n",
    "Since rank(D) = 3:\n",
    "- only be 3 nonzero singular values $\\sigma_1, \\sigma_2, \\sigma_3$ in $\\Sigma$.\n",
    "\n"
   ]
  },
  {
   "cell_type": "markdown",
   "metadata": {
    "slideshow": {
     "slide_type": "slide"
    }
   },
   "source": [
    "# Factorization via SVD\n",
    "\n",
    "$$\\begin{align*}\n",
    "D \n",
    "&= U \\Sigma V^T \\\\\n",
    "&=\n",
    "\\begin{bmatrix}\n",
    "u_1 & ... & u_n\n",
    "\\end{bmatrix}\n",
    "\\begin{bmatrix}\n",
    "\\sigma_1 & 0 & 0 &... & 0 \\\\\n",
    "0 & \\sigma_2 & 0 &... & 0 \\\\\n",
    "0 & 0 & \\sigma_3 & ... & 0 \\\\\n",
    "0 & 0 & 0 & ... & 0 \\\\\n",
    "... & ... & ... & ... & 0 \\\\\n",
    "0 & 0 & 0 & ... & 0 \\\\\n",
    "\\end{bmatrix}\n",
    "\\begin{bmatrix}\n",
    "v_1^T \\\\\n",
    "... \\\\\n",
    "v_n^T\n",
    "\\end{bmatrix}\\\\\n",
    "&=\n",
    "\\begin{bmatrix}\n",
    "u_1 & u_2 & u_3\n",
    "\\end{bmatrix}\n",
    "\\begin{bmatrix}\n",
    "\\sigma_1 & 0 & 0 \\\\\n",
    "0 & \\sigma_2 & 0 \\\\\n",
    "0 & 0 & \\sigma_3 \n",
    "\\end{bmatrix}\n",
    "\\begin{bmatrix}\n",
    "v_1^T \\\\\n",
    "v_2^T \\\\\n",
    "v_3^T\n",
    "\\end{bmatrix}\\\\\n",
    "&= U_3 \\Sigma_3 V_3^T \n",
    "\\end{align*}\n",
    "$$"
   ]
  },
  {
   "cell_type": "markdown",
   "metadata": {
    "slideshow": {
     "slide_type": "slide"
    }
   },
   "source": [
    "# Factorization via SVD\n",
    "\n",
    "In the SVD: $D = U_3 \\Sigma_3 V_3^T$:\n",
    "- $\\Sigma_3$ is diagonal matrix formed with non zero singular values\n",
    "- $U_3, V_3^T$ are obtained by taking the corresponding three columns of $U$ and rows of $V^T$ respectively."
   ]
  },
  {
   "cell_type": "markdown",
   "metadata": {
    "slideshow": {
     "slide_type": "slide"
    }
   },
   "source": [
    "# In Practice\n",
    "\n",
    "$\\color{#EF5645}{\\text{Remark:}}$ Unfortunately, in practice, rank(D) > 3 because of measurement noise and the affine camera approximation. \n",
    "\n",
    "However, when rank(D) > 3, $U_3 \\Sigma_3 V_3^T$ is still the best possible rank-3 approximation of $M S$ in the sense of the Frobenius norm. \n"
   ]
  },
  {
   "cell_type": "markdown",
   "metadata": {
    "slideshow": {
     "slide_type": "slide"
    }
   },
   "source": [
    "# From SVD to M and S\n",
    "\n",
    "In the SVD: $D = U_3 \\Sigma_3 V_3^T$, we note that:\n",
    "- $\\Sigma_3 V_3^T$ forms a $3 \\times n$ matrix: same size as the structure matrix S\n",
    "- $U_3$ is a $2m \\times 3$ matrix: same size as the motion matrix M .\n",
    "\n",
    "$\\rightarrow$ Assign $S = \\Sigma_3 V_3^T$ and $M = U_3$?\n",
    "\n"
   ]
  },
  {
   "cell_type": "markdown",
   "metadata": {
    "slideshow": {
     "slide_type": "slide"
    }
   },
   "source": [
    "# From SVD to M and S\n",
    "\n",
    "But what about:\n",
    "- $V_3^T$ is a $3 \\times n$ matrix: same size as the structure matrix S\n",
    "- $U_3 \\Sigma_3$ is a $2m \\times 3$ matrix: same size as the motion matrix M .\n",
    "\n",
    "$\\rightarrow$ Assign $S = V_3^T$ and $M = U_3 \\Sigma_3 $?\n",
    "\n"
   ]
  },
  {
   "cell_type": "markdown",
   "metadata": {
    "slideshow": {
     "slide_type": "slide"
    }
   },
   "source": [
    "# From SVD to M and S\n",
    "\n",
    "Answer in Tomasi and Kanada's paper:\n",
    "- Choose $S = \\sqrt{\\Sigma_3} V_3^T$ and $M = U_3 \\sqrt{\\Sigma_3}$ where:\n",
    "    - $\\sqrt{N}$ is the matricial square root."
   ]
  },
  {
   "cell_type": "markdown",
   "metadata": {
    "slideshow": {
     "slide_type": "slide"
    }
   },
   "source": [
    "# Remark: Ambiguity in Reconstruction\n",
    "\n",
    "We say that there is an ambiguity in the choice of factorization, because any $3 \\times 3$ invertible matrix $A$ may be inserted into the decomposition: \n",
    "$$D = M AA^{−1}S = (M A)(A^{−1}S)$$\n",
    "This means that:\n",
    "- $M$ is undetermined, i.e. the camera matrices $A_j$ are undetermined\n",
    "- $S$ is undetermined, i.e. the 3D points $X_i$ are undetermined.\n",
    "\n",
    "$\\rightarrow$ Need extra constraints to solve ambiguity."
   ]
  },
  {
   "cell_type": "markdown",
   "metadata": {
    "slideshow": {
     "slide_type": "slide"
    }
   },
   "source": [
    "When a reconstruction has affine ambiguity, it means that parallelism is preserved, but the metric scale is unknown.\n",
    "\n",
    "The fact that there is no way to recover the absolute scale of a scene from images is fairly intuitive. An object’s scale, absolute position and canonical orientation will always be unknown unless we make further assumptions (e.g, we know the height of the house in the figure) or incorporate more data. This is because some attributes may compensate for others. For instance, to get the same image, we can simply move the object backwards and scale it accordingly.\n",
    "\n"
   ]
  },
  {
   "cell_type": "markdown",
   "metadata": {
    "slideshow": {
     "slide_type": "slide"
    }
   },
   "source": [
    "# SfM in Practice: Tomasi-Kanade Package"
   ]
  },
  {
   "cell_type": "code",
   "execution_count": 2,
   "metadata": {},
   "outputs": [
    {
     "name": "stdout",
     "output_type": "stream",
     "text": [
      "Cloning into 'Tomasi-Kanade'...\n",
      "remote: Enumerating objects: 265, done.\u001b[K\n",
      "remote: Total 265 (delta 0), reused 0 (delta 0), pack-reused 265\u001b[K\n",
      "Receiving objects: 100% (265/265), 8.22 MiB | 2.58 MiB/s, done.\n",
      "Resolving deltas: 100% (140/140), done.\n"
     ]
    }
   ],
   "source": [
    "! git clone https://github.com/IshitaTakeshi/Tomasi-Kanade.git"
   ]
  },
  {
   "cell_type": "code",
   "execution_count": 4,
   "metadata": {
    "scrolled": true
   },
   "outputs": [
    {
     "name": "stdout",
     "output_type": "stream",
     "text": [
      "Requirement already satisfied: numpy in /Users/ninamiolane/opt/anaconda3/envs/courses/lib/python3.9/site-packages (from -r Tomasi-Kanade/requirements.txt (line 1)) (1.21.5)\n",
      "Requirement already satisfied: matplotlib in /Users/ninamiolane/opt/anaconda3/envs/courses/lib/python3.9/site-packages (from -r Tomasi-Kanade/requirements.txt (line 2)) (3.5.1)\n",
      "Collecting chainer\n",
      "  Downloading chainer-7.8.1.tar.gz (1.0 MB)\n",
      "\u001b[K     |████████████████████████████████| 1.0 MB 3.7 MB/s eta 0:00:01\n",
      "\u001b[?25hCollecting plyfile\n",
      "  Downloading plyfile-0.7.4-py3-none-any.whl (39 kB)\n",
      "Collecting sphinx\n",
      "  Downloading Sphinx-4.4.0-py3-none-any.whl (3.1 MB)\n",
      "\u001b[K     |████████████████████████████████| 3.1 MB 20.5 MB/s eta 0:00:01\n",
      "\u001b[?25hCollecting sphinxcontrib-bibtex\n",
      "  Downloading sphinxcontrib_bibtex-2.4.1-py3-none-any.whl (38 kB)\n",
      "Requirement already satisfied: pillow>=6.2.0 in /Users/ninamiolane/opt/anaconda3/envs/courses/lib/python3.9/site-packages (from matplotlib->-r Tomasi-Kanade/requirements.txt (line 2)) (9.0.0)\n",
      "Requirement already satisfied: python-dateutil>=2.7 in /Users/ninamiolane/opt/anaconda3/envs/courses/lib/python3.9/site-packages (from matplotlib->-r Tomasi-Kanade/requirements.txt (line 2)) (2.8.2)\n",
      "Requirement already satisfied: kiwisolver>=1.0.1 in /Users/ninamiolane/opt/anaconda3/envs/courses/lib/python3.9/site-packages (from matplotlib->-r Tomasi-Kanade/requirements.txt (line 2)) (1.3.2)\n",
      "Requirement already satisfied: fonttools>=4.22.0 in /Users/ninamiolane/opt/anaconda3/envs/courses/lib/python3.9/site-packages (from matplotlib->-r Tomasi-Kanade/requirements.txt (line 2)) (4.28.5)\n",
      "Requirement already satisfied: pyparsing>=2.2.1 in /Users/ninamiolane/opt/anaconda3/envs/courses/lib/python3.9/site-packages (from matplotlib->-r Tomasi-Kanade/requirements.txt (line 2)) (3.0.6)\n",
      "Requirement already satisfied: packaging>=20.0 in /Users/ninamiolane/opt/anaconda3/envs/courses/lib/python3.9/site-packages (from matplotlib->-r Tomasi-Kanade/requirements.txt (line 2)) (21.3)\n",
      "Requirement already satisfied: cycler>=0.10 in /Users/ninamiolane/opt/anaconda3/envs/courses/lib/python3.9/site-packages (from matplotlib->-r Tomasi-Kanade/requirements.txt (line 2)) (0.11.0)\n",
      "Requirement already satisfied: setuptools in /Users/ninamiolane/opt/anaconda3/envs/courses/lib/python3.9/site-packages (from chainer->-r Tomasi-Kanade/requirements.txt (line 3)) (57.4.0)\n",
      "Requirement already satisfied: typing_extensions in /Users/ninamiolane/opt/anaconda3/envs/courses/lib/python3.9/site-packages (from chainer->-r Tomasi-Kanade/requirements.txt (line 3)) (4.0.1)\n",
      "Collecting filelock\n",
      "  Downloading filelock-3.6.0-py3-none-any.whl (10.0 kB)\n",
      "Requirement already satisfied: protobuf>=3.0.0 in /Users/ninamiolane/opt/anaconda3/envs/courses/lib/python3.9/site-packages (from chainer->-r Tomasi-Kanade/requirements.txt (line 3)) (3.19.1)\n",
      "Requirement already satisfied: six>=1.9.0 in /Users/ninamiolane/opt/anaconda3/envs/courses/lib/python3.9/site-packages (from chainer->-r Tomasi-Kanade/requirements.txt (line 3)) (1.16.0)\n",
      "Collecting babel>=1.3\n",
      "  Using cached Babel-2.9.1-py2.py3-none-any.whl (8.8 MB)\n",
      "Requirement already satisfied: importlib-metadata>=4.4 in /Users/ninamiolane/opt/anaconda3/envs/courses/lib/python3.9/site-packages (from sphinx->-r Tomasi-Kanade/requirements.txt (line 5)) (4.8.1)\n",
      "Collecting sphinxcontrib-applehelp\n",
      "  Using cached sphinxcontrib_applehelp-1.0.2-py2.py3-none-any.whl (121 kB)\n",
      "Collecting sphinxcontrib-jsmath\n",
      "  Using cached sphinxcontrib_jsmath-1.0.1-py2.py3-none-any.whl (5.1 kB)\n",
      "Collecting sphinxcontrib-devhelp\n",
      "  Using cached sphinxcontrib_devhelp-1.0.2-py2.py3-none-any.whl (84 kB)\n",
      "Collecting sphinxcontrib-qthelp\n",
      "  Using cached sphinxcontrib_qthelp-1.0.3-py2.py3-none-any.whl (90 kB)\n",
      "Collecting sphinxcontrib-htmlhelp>=2.0.0\n",
      "  Using cached sphinxcontrib_htmlhelp-2.0.0-py2.py3-none-any.whl (100 kB)\n",
      "Requirement already satisfied: Pygments>=2.0 in /Users/ninamiolane/opt/anaconda3/envs/courses/lib/python3.9/site-packages (from sphinx->-r Tomasi-Kanade/requirements.txt (line 5)) (2.11.2)\n",
      "Requirement already satisfied: Jinja2>=2.3 in /Users/ninamiolane/opt/anaconda3/envs/courses/lib/python3.9/site-packages (from sphinx->-r Tomasi-Kanade/requirements.txt (line 5)) (3.0.3)\n",
      "Collecting imagesize\n",
      "  Using cached imagesize-1.3.0-py2.py3-none-any.whl (5.2 kB)\n",
      "Collecting snowballstemmer>=1.1\n",
      "  Using cached snowballstemmer-2.2.0-py2.py3-none-any.whl (93 kB)\n",
      "Collecting docutils<0.18,>=0.14\n",
      "  Using cached docutils-0.17.1-py2.py3-none-any.whl (575 kB)\n",
      "Requirement already satisfied: requests>=2.5.0 in /Users/ninamiolane/opt/anaconda3/envs/courses/lib/python3.9/site-packages (from sphinx->-r Tomasi-Kanade/requirements.txt (line 5)) (2.27.1)\n",
      "Collecting alabaster<0.8,>=0.7\n",
      "  Using cached alabaster-0.7.12-py2.py3-none-any.whl (14 kB)\n",
      "Collecting sphinxcontrib-serializinghtml>=1.1.5\n",
      "  Using cached sphinxcontrib_serializinghtml-1.1.5-py2.py3-none-any.whl (94 kB)\n",
      "Collecting pybtex>=0.20\n",
      "  Downloading pybtex-0.24.0-py2.py3-none-any.whl (561 kB)\n",
      "\u001b[K     |████████████████████████████████| 561 kB 22.1 MB/s eta 0:00:01\n",
      "\u001b[?25hCollecting pybtex-docutils>=1.0.0\n",
      "  Downloading pybtex_docutils-1.0.1-py3-none-any.whl (4.8 kB)\n",
      "Requirement already satisfied: pytz>=2015.7 in /Users/ninamiolane/opt/anaconda3/envs/courses/lib/python3.9/site-packages (from babel>=1.3->sphinx->-r Tomasi-Kanade/requirements.txt (line 5)) (2021.3)\n",
      "Requirement already satisfied: zipp>=0.5 in /Users/ninamiolane/opt/anaconda3/envs/courses/lib/python3.9/site-packages (from importlib-metadata>=4.4->sphinx->-r Tomasi-Kanade/requirements.txt (line 5)) (3.5.0)\n",
      "Requirement already satisfied: MarkupSafe>=2.0 in /Users/ninamiolane/opt/anaconda3/envs/courses/lib/python3.9/site-packages (from Jinja2>=2.3->sphinx->-r Tomasi-Kanade/requirements.txt (line 5)) (2.0.1)\n",
      "Requirement already satisfied: PyYAML>=3.01 in /Users/ninamiolane/opt/anaconda3/envs/courses/lib/python3.9/site-packages (from pybtex>=0.20->sphinxcontrib-bibtex->-r Tomasi-Kanade/requirements.txt (line 6)) (5.4.1)\n",
      "Collecting latexcodec>=1.0.4\n",
      "  Downloading latexcodec-2.0.1-py2.py3-none-any.whl (18 kB)\n",
      "Requirement already satisfied: charset-normalizer~=2.0.0 in /Users/ninamiolane/opt/anaconda3/envs/courses/lib/python3.9/site-packages (from requests>=2.5.0->sphinx->-r Tomasi-Kanade/requirements.txt (line 5)) (2.0.10)\n",
      "Requirement already satisfied: certifi>=2017.4.17 in /Users/ninamiolane/opt/anaconda3/envs/courses/lib/python3.9/site-packages (from requests>=2.5.0->sphinx->-r Tomasi-Kanade/requirements.txt (line 5)) (2021.10.8)\n",
      "Requirement already satisfied: idna<4,>=2.5 in /Users/ninamiolane/opt/anaconda3/envs/courses/lib/python3.9/site-packages (from requests>=2.5.0->sphinx->-r Tomasi-Kanade/requirements.txt (line 5)) (3.3)\n",
      "Requirement already satisfied: urllib3<1.27,>=1.21.1 in /Users/ninamiolane/opt/anaconda3/envs/courses/lib/python3.9/site-packages (from requests>=2.5.0->sphinx->-r Tomasi-Kanade/requirements.txt (line 5)) (1.26.7)\n",
      "Building wheels for collected packages: chainer\n",
      "  Building wheel for chainer (setup.py) ... \u001b[?25ldone\n",
      "\u001b[?25h  Created wheel for chainer: filename=chainer-7.8.1-py3-none-any.whl size=967740 sha256=5d5da9a0f6ac81e1dba1052c5c9896a3f486e042627804da6266fd356a6cfeaf\n",
      "  Stored in directory: /Users/ninamiolane/Library/Caches/pip/wheels/83/90/84/57741aca5962d73dbeb37ee7a859d3cc31463273a133821071\n",
      "Successfully built chainer\n",
      "Installing collected packages: latexcodec, sphinxcontrib-serializinghtml, sphinxcontrib-qthelp, sphinxcontrib-jsmath, sphinxcontrib-htmlhelp, sphinxcontrib-devhelp, sphinxcontrib-applehelp, snowballstemmer, pybtex, imagesize, docutils, babel, alabaster, sphinx, pybtex-docutils, filelock, sphinxcontrib-bibtex, plyfile, chainer\n",
      "Successfully installed alabaster-0.7.12 babel-2.9.1 chainer-7.8.1 docutils-0.17.1 filelock-3.6.0 imagesize-1.3.0 latexcodec-2.0.1 plyfile-0.7.4 pybtex-0.24.0 pybtex-docutils-1.0.1 snowballstemmer-2.2.0 sphinx-4.4.0 sphinxcontrib-applehelp-1.0.2 sphinxcontrib-bibtex-2.4.1 sphinxcontrib-devhelp-1.0.2 sphinxcontrib-htmlhelp-2.0.0 sphinxcontrib-jsmath-1.0.1 sphinxcontrib-qthelp-1.0.3 sphinxcontrib-serializinghtml-1.1.5\n"
     ]
    }
   ],
   "source": [
    "! pip install -r Tomasi-Kanade/requirements.txt"
   ]
  },
  {
   "cell_type": "markdown",
   "metadata": {
    "slideshow": {
     "slide_type": "slide"
    }
   },
   "source": [
    "# SfM in Practice: Data"
   ]
  },
  {
   "cell_type": "code",
   "execution_count": 6,
   "metadata": {},
   "outputs": [
    {
     "name": "stdout",
     "output_type": "stream",
     "text": [
      "--2022-02-23 10:28:01--  http://graphics.stanford.edu/pub/3Dscanrep/bunny.tar.gz\n",
      "Resolving graphics.stanford.edu (graphics.stanford.edu)... 171.67.77.70\n",
      "Connecting to graphics.stanford.edu (graphics.stanford.edu)|171.67.77.70|:80... connected.\n",
      "HTTP request sent, awaiting response... 200 OK\n",
      "Length: 4894286 (4.7M) [application/x-gzip]\n",
      "Saving to: ‘bunny.tar.gz’\n",
      "\n",
      "bunny.tar.gz        100%[===================>]   4.67M  10.8MB/s    in 0.4s    \n",
      "\n",
      "2022-02-23 10:28:01 (10.8 MB/s) - ‘bunny.tar.gz’ saved [4894286/4894286]\n",
      "\n",
      "x bunny/\n",
      "x bunny/data/\n",
      "x bunny/data/README\n",
      "x bunny/data/bun.conf\n",
      "x bunny/data/bun.conf~\n",
      "x bunny/data/bun000.ply\n",
      "x bunny/data/bun045.ply\n",
      "x bunny/data/bun090.ply\n",
      "x bunny/data/bun180.ply\n",
      "x bunny/data/bun270.ply\n",
      "x bunny/data/bun315.ply\n",
      "x bunny/data/chin.ply\n",
      "x bunny/data/ear_back.ply\n",
      "x bunny/data/top2.ply\n",
      "x bunny/data/top3.ply\n",
      "x bunny/reconstruction/\n",
      "x bunny/reconstruction/README\n",
      "x bunny/reconstruction/bun_zipper.ply\n",
      "x bunny/reconstruction/bun_zipper_res2.ply\n",
      "x bunny/reconstruction/bun_zipper_res3.ply\n",
      "x bunny/reconstruction/bun_zipper_res4.ply\n"
     ]
    }
   ],
   "source": [
    "!wget -c http://graphics.stanford.edu/pub/3Dscanrep/bunny.tar.gz\n",
    "!tar xvf bunny.tar.gz"
   ]
  },
  {
   "cell_type": "code",
   "execution_count": 35,
   "metadata": {
    "slideshow": {
     "slide_type": "skip"
    }
   },
   "outputs": [
    {
     "name": "stdout",
     "output_type": "stream",
     "text": [
      "Collecting pyntcloud\n",
      "  Downloading pyntcloud-0.1.6-py3-none-any.whl (346 kB)\n",
      "\u001b[K     |████████████████████████████████| 346 kB 3.3 MB/s eta 0:00:01\n",
      "\u001b[?25hRequirement already satisfied: scipy in /Users/ninamiolane/opt/anaconda3/envs/courses/lib/python3.9/site-packages (from pyntcloud) (1.7.3)\n",
      "Requirement already satisfied: numpy in /Users/ninamiolane/opt/anaconda3/envs/courses/lib/python3.9/site-packages (from pyntcloud) (1.21.5)\n",
      "Requirement already satisfied: pandas in /Users/ninamiolane/opt/anaconda3/envs/courses/lib/python3.9/site-packages (from pyntcloud) (1.3.5)\n",
      "Requirement already satisfied: python-dateutil>=2.7.3 in /Users/ninamiolane/opt/anaconda3/envs/courses/lib/python3.9/site-packages (from pandas->pyntcloud) (2.8.2)\n",
      "Requirement already satisfied: pytz>=2017.3 in /Users/ninamiolane/opt/anaconda3/envs/courses/lib/python3.9/site-packages (from pandas->pyntcloud) (2021.3)\n",
      "Requirement already satisfied: six>=1.5 in /Users/ninamiolane/opt/anaconda3/envs/courses/lib/python3.9/site-packages (from python-dateutil>=2.7.3->pandas->pyntcloud) (1.16.0)\n",
      "Installing collected packages: pyntcloud\n",
      "Successfully installed pyntcloud-0.1.6\n"
     ]
    }
   ],
   "source": [
    "!pip install pyntcloud"
   ]
  },
  {
   "cell_type": "code",
   "execution_count": 50,
   "metadata": {
    "slideshow": {
     "slide_type": "skip"
    }
   },
   "outputs": [
    {
     "data": {
      "text/html": [
       "<div>\n",
       "<style scoped>\n",
       "    .dataframe tbody tr th:only-of-type {\n",
       "        vertical-align: middle;\n",
       "    }\n",
       "\n",
       "    .dataframe tbody tr th {\n",
       "        vertical-align: top;\n",
       "    }\n",
       "\n",
       "    .dataframe thead th {\n",
       "        text-align: right;\n",
       "    }\n",
       "</style>\n",
       "<table border=\"1\" class=\"dataframe\">\n",
       "  <thead>\n",
       "    <tr style=\"text-align: right;\">\n",
       "      <th></th>\n",
       "      <th>x</th>\n",
       "      <th>y</th>\n",
       "      <th>z</th>\n",
       "    </tr>\n",
       "  </thead>\n",
       "  <tbody>\n",
       "    <tr>\n",
       "      <th>count</th>\n",
       "      <td>236501.000000</td>\n",
       "      <td>63402.000000</td>\n",
       "      <td>31701.000000</td>\n",
       "    </tr>\n",
       "    <tr>\n",
       "      <th>mean</th>\n",
       "      <td>0.134851</td>\n",
       "      <td>7925.051758</td>\n",
       "      <td>0.064848</td>\n",
       "    </tr>\n",
       "    <tr>\n",
       "      <th>std</th>\n",
       "      <td>0.340536</td>\n",
       "      <td>10231.300781</td>\n",
       "      <td>0.023522</td>\n",
       "    </tr>\n",
       "    <tr>\n",
       "      <th>min</th>\n",
       "      <td>-0.062250</td>\n",
       "      <td>0.000000</td>\n",
       "      <td>-0.011259</td>\n",
       "    </tr>\n",
       "    <tr>\n",
       "      <th>25%</th>\n",
       "      <td>0.000000</td>\n",
       "      <td>0.098225</td>\n",
       "      <td>0.050119</td>\n",
       "    </tr>\n",
       "    <tr>\n",
       "      <th>50%</th>\n",
       "      <td>0.000000</td>\n",
       "      <td>0.187622</td>\n",
       "      <td>0.072846</td>\n",
       "    </tr>\n",
       "    <tr>\n",
       "      <th>75%</th>\n",
       "      <td>0.000000</td>\n",
       "      <td>15849.750000</td>\n",
       "      <td>0.084475</td>\n",
       "    </tr>\n",
       "    <tr>\n",
       "      <th>max</th>\n",
       "      <td>1.000000</td>\n",
       "      <td>31700.000000</td>\n",
       "      <td>0.094291</td>\n",
       "    </tr>\n",
       "  </tbody>\n",
       "</table>\n",
       "</div>"
      ],
      "text/plain": [
       "                   x             y             z\n",
       "count  236501.000000  63402.000000  31701.000000\n",
       "mean        0.134851   7925.051758      0.064848\n",
       "std         0.340536  10231.300781      0.023522\n",
       "min        -0.062250      0.000000     -0.011259\n",
       "25%         0.000000      0.098225      0.050119\n",
       "50%         0.000000      0.187622      0.072846\n",
       "75%         0.000000  15849.750000      0.084475\n",
       "max         1.000000  31700.000000      0.094291"
      ]
     },
     "execution_count": 50,
     "metadata": {},
     "output_type": "execute_result"
    }
   ],
   "source": [
    "from pyntcloud import PyntCloud\n",
    "\n",
    "#bunny_res4 = PyntCloud.from_file(\"../bunny/reconstruction/bun_zipper_res4.ply\")\n",
    "bunny_res4 = PyntCloud.from_file(\"../bunny/data/bun270.ply\")\n",
    "\n",
    "bunny2Dbunny_res4.points.describe()"
   ]
  },
  {
   "cell_type": "code",
   "execution_count": 9,
   "metadata": {},
   "outputs": [
    {
     "name": "stdout",
     "output_type": "stream",
     "text": [
      "epoch       iteration   main/loss   reconstruction_error\n",
      "\u001b[J1           64          0.58847     3.00284               \n",
      "\u001b[J2           128         0.015753    0.00199454            \n",
      "\u001b[J3           192         1.32847e-05  4.64715e-06           \n",
      "\u001b[J4           256         3.43676e-08  6.05554e-09           \n",
      "\u001b[J5           320         3.86426e-11  8.55006e-12           \n",
      "\u001b[J6           384         3.24201e-13  7.05457e-12           \n",
      "\u001b[J7           448         3.24203e-13  6.60437e-12           \n",
      "\u001b[J8           512         3.06991e-13  4.34354e-12           \n",
      "Figure(640x480)\n",
      "Figure(640x480)\n"
     ]
    }
   ],
   "source": [
    "# !python3 Tomasi-Kanade/run_reconstruction.py bunny/reconstruction/bun_zipper_res4.ply"
   ]
  },
  {
   "cell_type": "code",
   "execution_count": 22,
   "metadata": {},
   "outputs": [
    {
     "name": "stdout",
     "output_type": "stream",
     "text": [
      "/Volumes/GoogleDrive/My Drive/code/ece278a/lectures/Tomasi-Kanade\n"
     ]
    }
   ],
   "source": [
    "%cd Tomasi-Kanade"
   ]
  },
  {
   "cell_type": "code",
   "execution_count": 23,
   "metadata": {},
   "outputs": [
    {
     "name": "stdout",
     "output_type": "stream",
     "text": [
      "\u001b[35mLICENSE\u001b[m\u001b[m               \u001b[36mdocs\u001b[m\u001b[m                  \u001b[35mrun_reconstruction.py\u001b[m\u001b[m\r\n",
      "\u001b[35mREADME.md\u001b[m\u001b[m             \u001b[36mimages\u001b[m\u001b[m                \u001b[35mtomasi_kanade.py\u001b[m\u001b[m\r\n",
      "\u001b[36m__pycache__\u001b[m\u001b[m           \u001b[35mrequirements.txt\u001b[m\u001b[m      \u001b[35mvisualization.py\u001b[m\u001b[m\r\n",
      "\u001b[35maffine_correction.py\u001b[m\u001b[m  \u001b[35mrigid_motion.py\u001b[m\u001b[m\r\n"
     ]
    }
   ],
   "source": [
    "!ls"
   ]
  },
  {
   "cell_type": "code",
   "execution_count": 60,
   "metadata": {
    "slideshow": {
     "slide_type": "slide"
    }
   },
   "outputs": [],
   "source": [
    "import importlib\n",
    "import run_reconstruction\n",
    "importlib.reload(run_reconstruction)\n",
    "\n",
    "from run_reconstruction import main"
   ]
  },
  {
   "cell_type": "code",
   "execution_count": 61,
   "metadata": {},
   "outputs": [
    {
     "name": "stdout",
     "output_type": "stream",
     "text": [
      "epoch       iteration   main/loss   reconstruction_error\n",
      "\u001b[J1           64          0.58847     3.00284               \n",
      "\u001b[J2           128         0.015753    0.00199454            \n",
      "\u001b[J3           192         1.32847e-05  4.64715e-06           \n",
      "\u001b[J4           256         3.43676e-08  6.05554e-09           \n",
      "\u001b[J5           320         3.86426e-11  8.55006e-12           \n",
      "\u001b[J6           384         3.24201e-13  7.05457e-12           \n",
      "\u001b[J7           448         3.24203e-13  6.60437e-12           \n",
      "\u001b[J8           512         3.06991e-13  4.34354e-12           \n"
     ]
    },
    {
     "data": {
      "image/png": "[encoded data removed]",
      "text/plain": [
       "<Figure size 432x288 with 1 Axes>"
      ]
     },
     "metadata": {
      "needs_background": "light"
     },
     "output_type": "display_data"
    },
    {
     "data": {
      "image/png": "[encoded data removed]",
      "text/plain": [
       "<Figure size 432x288 with 1 Axes>"
      ]
     },
     "metadata": {
      "needs_background": "light"
     },
     "output_type": "display_data"
    },
    {
     "data": {
      "image/png": "[encoded data removed]",
      "text/plain": [
       "<Figure size 432x288 with 1 Axes>"
      ]
     },
     "metadata": {
      "needs_background": "light"
     },
     "output_type": "display_data"
    }
   ],
   "source": [
    "fig1, fig2 = main(filename = \"../bunny/reconstruction/bun_zipper_res4.ply\")"
   ]
  },
  {
   "cell_type": "markdown",
   "metadata": {
    "slideshow": {
     "slide_type": "slide"
    }
   },
   "source": [
    "# 3D Reconstruction\n",
    "\n",
    "- [Triangulation](#sec-syllabus)\n",
    "  \n",
    "- **[Structure from Motion](#sec-ece)**\n",
    "  - Affine\n",
    "  - **Projective**\n",
    "\n",
    "- [Active and Volumetric Stereo](#sec-ece)\n",
    "\n",
    "- [Reconstruction in Biology (invited speaker)](#sec-ece)"
   ]
  },
  {
   "cell_type": "markdown",
   "metadata": {
    "slideshow": {
     "slide_type": "slide"
    }
   },
   "source": [
    "# Recall: 3D Reconstruction\n",
    "\n",
    "<center><img src=\"figs/05_sfm_ex.png\" width=1000px alt=\"default\"/></center>"
   ]
  },
  {
   "cell_type": "markdown",
   "metadata": {
    "slideshow": {
     "slide_type": "slide"
    }
   },
   "source": [
    "# Recall: 3D Reconstruction (Monuments)\n",
    "\n",
    "<center><img src=\"figs/05_palmyra.png\" width=600px alt=\"default\"/></center>"
   ]
  },
  {
   "cell_type": "markdown",
   "metadata": {
    "slideshow": {
     "slide_type": "slide"
    }
   },
   "source": [
    "# Recall: 3D Reconstruction (Robotics)\n",
    "\n",
    "<center><img src=\"figs/05_robotics.jpeg\" width=650px alt=\"default\"/></center>"
   ]
  },
  {
   "cell_type": "markdown",
   "metadata": {
    "slideshow": {
     "slide_type": "slide"
    }
   },
   "source": [
    "# Recall: Structure from Motion (SfM)\n",
    "\n",
    "\n",
    "$\\color{#EF5645}{\\text{Given:}}$ Image points $x_{ij}$ representing 3D points $X_j$ in camera $i$ with projection matrix $M_i$: \n",
    "\n",
    "$$x_{ij} = M_i X_j.$$\n",
    "\n",
    "$\\color{#EF5645}{\\text{Goal:}}$ Recover:\n",
    "- structure of the scene, i.e. the $X_j$,\n",
    "- camera projection matrices, i.e. the $M_i$.\n",
    "\n",
    "<center><img src=\"figs/05_sfm.png\" width=500px alt=\"default\"/></center>\n"
   ]
  },
  {
   "cell_type": "markdown",
   "metadata": {
    "slideshow": {
     "slide_type": "slide"
    }
   },
   "source": [
    "# Assumptions for SfM\n",
    "\n",
    "Depending on the class of the projection matrices, we get different SfM:\n",
    "- $\\color{#EF5645}{\\text{Affine SfM}}$: If $M$ corresponds to an affine transformation:\n",
    " - $M = \\begin{bmatrix}\n",
    "A & b \\\\\n",
    "0 & 1\n",
    "\\end{bmatrix}$ which we also write $M = \\begin{bmatrix}\n",
    "A & b \n",
    "\\end{bmatrix}$ so that $x = MX = AX +b$.\n",
    "- $\\color{#EF5645}{\\text{Projective SfM}}$: If $M$ is projective:\n",
    "  - $M = \\begin{bmatrix}\n",
    "A & b \\\\\n",
    "v & 1\n",
    "\\end{bmatrix}$ which we also write $M = \\begin{bmatrix}\n",
    "A & b \n",
    "\\end{bmatrix}$, but:\n",
    "    - $A$ is $3 \\times 3$, $b$ is $3 \\times 1$ and $||b||^2 = 1$.\n",
    "  - $\\rightarrow$ our focus today."
   ]
  },
  {
   "cell_type": "markdown",
   "metadata": {
    "slideshow": {
     "slide_type": "slide"
    }
   },
   "source": [
    "# Solutions and Ambiguity\n",
    "\n",
    "We write:\n",
    "- Motion matrix $M$: matrix containing camera parameters $M_i$\n",
    "- Structure matrix $S$: matrix about the 3D points $X_j$\n",
    "\n",
    "and solve for $M, S$.\n",
    "\n",
    "$\\color{#EF5645}{\\text{Recall, in affine SfM}}$:\n",
    "- solutions for structure $S$ and motion $M$ can be found up to an affine transformation $A$\n",
    "  - If $M, S$ is a solution, then $MA$, $A^{-1}S$ is also a valid solution.\n"
   ]
  },
  {
   "cell_type": "markdown",
   "metadata": {
    "slideshow": {
     "slide_type": "slide"
    }
   },
   "source": [
    "# Solutions and Ambiguity\n",
    "\n",
    "We write:\n",
    "- Motion matrix $M$: matrix containing camera parameters\n",
    "- Structure matrix $S$: matrix about the 3D points $X_j$\n",
    "\n",
    "and solve for $M, S$.\n",
    "\n",
    "\n",
    "$\\color{#EF5645}{\\text{Now, in perspective SfM}}$:\n",
    "- solutions for structure $S$ and motion $M$ can be determined up a projective transformation $H$\n",
    "  - If $M, S$ is a solution, then $MH$, $H^{-1}S$ will also be a valid solution.\n"
   ]
  },
  {
   "cell_type": "markdown",
   "metadata": {
    "slideshow": {
     "slide_type": "slide"
    }
   },
   "source": [
    "# Projective SfM: Unknowns and Equations\n",
    "\n",
    "$\\color{#EF5645}{\\text{Given:}}$\n",
    "- $x_{ij}$: $2mn$ elements, which will give $2mn$ equations\n",
    "\n",
    "$\\color{#EF5645}{\\text{Goal:}}$ Recover:\n",
    "- structure of the scene, i.e. the $X_j$: $3n$ unknowns\n",
    "- camera parameters $M_i = \\begin{bmatrix}\n",
    "A_i & b_i \\\\\n",
    "v_i & 1\n",
    "\\end{bmatrix}$: $11m$ unknowns:\n",
    "  - rewritten $M_i = \\begin{bmatrix}\n",
    "A_i & b_i \n",
    "\\end{bmatrix}$ with $||b_i||^2 = 1$\n",
    "\n",
    "$\\rightarrow$ there is a minimum number of $2D$ images that we need to solve this problem."
   ]
  },
  {
   "cell_type": "markdown",
   "metadata": {
    "slideshow": {
     "slide_type": "skip"
    }
   },
   "source": [
    "# Projective SfM: Unknowns and Equations\n",
    "\n",
    "The SfM problem can be solved if we have at least enough equations for the number of unknowns, i.e.\n",
    "$$2 mn \\geq 11m + 3n.$$\n",
    "\n",
    "$\\color{#047C91}{\\text{Example}}$:\n",
    "- Given that we have two cameras, i.e. $m = 2$, how many 3D points do we need?\n",
    "- Given that we have 5 $3D$ points i.e. $n=5$, how many cameras do we need?\n",
    "Because cameras and points can only be recovered up to a 4 × 4 projective transformation up to scale (15 parameters), we have 11m + 3n − 15 unknowns in 2mn equations. From these facts, we can determine the number of views and observations that are required to solve for the unknowns.\n"
   ]
  },
  {
   "cell_type": "markdown",
   "metadata": {
    "slideshow": {
     "slide_type": "slide"
    }
   },
   "source": [
    "# Perspective SfM: Algebraic Approach\n",
    "\n",
    "$\\color{#EF5645}{\\text{Method:}}$\n",
    "- Compute the camera projection matrices of all cameras, i.e. the $M_i$,\n",
    "  - by taking them two-by-two,\n",
    "- Compute the positions of the 3D points $X_j$.\n",
    "\n",
    "<center><img src=\"figs/05_persSFM.png\" width=850px alt=\"default\"/></center>\n",
    "\n"
   ]
  },
  {
   "cell_type": "markdown",
   "metadata": {
    "slideshow": {
     "slide_type": "slide"
    }
   },
   "source": [
    "# Algebraic Approach: Solving for $M_1, M_2$\n",
    "\n",
    "\n",
    "$\\color{#EF5645}{\\text{Given:}}$ Points $x_{ij}$ representing $X_j$ in cameras $1, 2$ with two projection matrices $M_1$ and $M_2$: \n",
    "\n",
    "$$x_{1j} = M_1 X_j, \\quad x_{2j} = M_2 X_j$$\n",
    "\n",
    "$\\color{#EF5645}{\\text{Goal:}}$ Recover camera parameters $M_1, M_2$.\n",
    "\n",
    "$\\color{#EF5645}{\\text{Remark:}}$ Each $M_i$ can only be computed up a perspective transformation $H$:\n",
    "  - We can consider a $H$ such that $M_1H$ is canonical,\n",
    "  - i.e. such that $M_1 H^{-1} = \\begin{bmatrix} I & 0 \\end{bmatrix}$ and $M_2H^{-1} = \\begin{bmatrix} A & b \\end{bmatrix}$ as $3 \\times 4$ matrices.\n",
    "    - Recall that $||b||^2 = 1$.\n"
   ]
  },
  {
   "cell_type": "markdown",
   "metadata": {
    "slideshow": {
     "slide_type": "slide"
    }
   },
   "source": [
    "# Algebraic Approach: Solving for $M_1, M_2$\n",
    "\n",
    "\n",
    "$\\color{#EF5645}{\\text{Given:}}$ Points $x_{ij}$ representing $X_j$ in cameras $1, 2$ with two projection matrices $M_1$ and $M_2$: \n",
    "\n",
    "$$x_{1j} = M_1 X_j, \\quad x_{2j} = M_2 X_j$$\n",
    "\n",
    "$\\color{#EF5645}{\\text{Goal (re-stated):}}$\n",
    "- Assume $M_1 H^{-1} = \\begin{bmatrix} I & 0 \\end{bmatrix}$\n",
    "- Recover camera parameters $A, b$ from $M_2H^{-1} = \\begin{bmatrix} A & b \\end{bmatrix}$.\n",
    "\n",
    "$\\color{#EF5645}{\\text{Remark:}}$ In contrast to the affine case, now $A$ is $3 \\times 3$ and $b$ is $3 \\times 1$."
   ]
  },
  {
   "cell_type": "markdown",
   "metadata": {
    "slideshow": {
     "slide_type": "slide"
    }
   },
   "source": [
    "# Algebraic Approach: Solving for $M_1, M_2$\n",
    "\n",
    "\n",
    "$\\color{#EF5645}{\\text{Given:}}$ Points $x_{ij}$ representing $X_j$ in cameras $1, 2$ with two projection matrices $M_1$ and $M_2$: \n",
    "\n",
    "$$x_{1j} = M_1 X_j, \\quad x_{2j} = M_2 X_j$$\n",
    "\n",
    "$\\color{#EF5645}{\\text{Goal (re-stated):}}$\n",
    "- Assume $M_1 H^{-1} = \\begin{bmatrix} I & 0 \\end{bmatrix}$\n",
    "- Recover camera parameters $A, b$ from $M_2H^{-1} = \\begin{bmatrix} A & b \\end{bmatrix}$.\n",
    "\n",
    "$\\color{#EF5645}{\\text{Method overview:}}$\n",
    "1.  $\\color{#EF5645}{\\text{Set-up equations in $A, b$. }}$\n",
    "2.  $\\color{#EF5645}{\\text{Solve equations in $A, b$. }}$"
   ]
  },
  {
   "cell_type": "markdown",
   "metadata": {
    "slideshow": {
     "slide_type": "slide"
    }
   },
   "source": [
    "# Set-Up Equations in $A, b$\n",
    "\n",
    "1.  $\\color{#EF5645}{\\textbf{Set-up equations in $A, b$. }}$\n",
    "2.  $\\color{#EF5645}{\\text{Solve equations in $A, b$. }}$\n",
    "\n",
    "We have:\n",
    "$$\n",
    "\\begin{align*}\n",
    "p &= M_1 P = M_1 H^{-1} H P = \\begin{bmatrix} I & 0 \\end{bmatrix} \\tilde P \\\\\n",
    "p' &= M_2 P = M_2 H^{-1} H P  = \\begin{bmatrix} A & b \\end{bmatrix} \\tilde P \n",
    "\\end{align*}\n",
    "$$\n",
    "where we have defined $ \\tilde P = H P$.\n",
    "\n",
    "\n",
    "This leads to:\n",
    "$$\n",
    "\\begin{align*}\n",
    "p' \n",
    "&= \\begin{bmatrix} A & b \\end{bmatrix} \\tilde P  \\\\\n",
    "&= A \\tilde P + b \\\\\n",
    "&= A \\begin{bmatrix} I & 0 \\end{bmatrix} \\tilde P + b \\\\\n",
    "&= A p + b\n",
    "\\end{align*}\n",
    "$$"
   ]
  },
  {
   "cell_type": "markdown",
   "metadata": {
    "slideshow": {
     "slide_type": "slide"
    }
   },
   "source": [
    "# Set-Up Equations in $A, b$\n",
    "\n",
    "1.  $\\color{#EF5645}{\\textbf{Set-up equations in $A, b$. }}$\n",
    "2.  $\\color{#EF5645}{\\text{Solve equations in $A, b$. }}$\n",
    "\n",
    "From $p' = Ap +b$, we get: \n",
    "- $p' \\times b = (A p + b) \\times b = A p \\times b$\n",
    "- and $p' \\times b$ is perpendicular to $p'$.\n",
    "\n",
    "\n",
    "Thus:\n",
    "$$\n",
    "\\begin{align*}\n",
    "0\n",
    "&= p'^T (p'\\times b) \\\\\n",
    "&= p'^T (A p \\times b) \\\\\n",
    "&= p'^T (b \\times Ap) \\\\\n",
    "&= p'^T [b]_\\times A p \\quad\\quad \\rightarrow \\color{#EF5645}{\\text{1. Equation in $A, b$}}\n",
    "\\end{align*}\n",
    "$$\n",
    "where $[b]_\\times$ is the $3 \\times 3$ skew-symmetric matrix with entries from $b = (b_1, b_2, b_3)^T$:\n",
    "\n",
    "\n",
    "$$[b]_\\times= \\begin{bmatrix}\\,\\,0&\\!-b_{3}&\\,\\,\\,b_{2}\\\\\\,\\,\\,b_{3}&0&\\!-b_{1}\\\\\\!-b_{2}&\\,\\,b_{1}&\\,\\,0\\end{bmatrix}$$"
   ]
  },
  {
   "cell_type": "markdown",
   "metadata": {
    "slideshow": {
     "slide_type": "slide"
    }
   },
   "source": [
    "# Epipolar Constraint and Fundamental Matrix\n",
    "\n",
    "We introduce definitions related to the equation we just found.\n",
    "\n",
    "$\\color{#EF5645}{\\text{Epipolar constraint:}}$ The equation linking $p$ and $p'$ is called the epipolar constraint:\n",
    "$$p'^T [b]_\\times A p = 0.$$\n",
    "\n",
    "$\\color{#EF5645}{\\text{Fundamental Matrix:}}$ The matrix $F = [b]_\\times A$ such that:\n",
    "$$p'^T [b]_\\times A p = 0,$$\n",
    "is called the fundamental matrix."
   ]
  },
  {
   "cell_type": "markdown",
   "metadata": {
    "slideshow": {
     "slide_type": "slide"
    }
   },
   "source": [
    "# Algebraic Approach: Solving for $M_1, M_2$\n",
    "\n",
    "$\\color{#EF5645}{\\text{Given:}}$ Points $x_{ij}$ representing $X_j$ in cameras $1, 2$ with two projection matrices $M_1$ and $M_2$: \n",
    "\n",
    "$$x_{1j} = M_1 X_j, \\quad x_{2j} = M_2 X_j$$\n",
    "\n",
    "$\\color{#EF5645}{\\text{Goal (re-stated):}}$\n",
    "- Assume $M_1 H^{-1} = \\begin{bmatrix} I & 0 \\end{bmatrix}$\n",
    "- Recover camera parameters $A, b$ from $M_2H^{-1} = \\begin{bmatrix} A & b \\end{bmatrix}$.\n",
    "\n",
    "$\\color{#EF5645}{\\text{Method overview:}}$\n",
    "1.  $\\color{#EF5645}{\\text{Set-up equations in $A, b$. }}$\n",
    "2.  $\\color{#EF5645}{\\textbf{Solve equations in $A, b$. }}$\n",
    "    - **Compute the fundamental matrix $F = [b]_\\times A$**,\n",
    "    - Given $F$, compute $b$,\n",
    "    - Given $F, b$, compute $A$."
   ]
  },
  {
   "cell_type": "markdown",
   "metadata": {
    "slideshow": {
     "slide_type": "slide"
    }
   },
   "source": [
    "# Compute $F$ with Eight-Point Algorithm\n",
    "\n",
    "The Eight-Point Algorithm can be used to compute the fundamental matrix $F$.\n",
    "\n",
    "$\\color{#EF5645}{\\text{Intuition:}}$ The fundamental matrix is a $3 \\times 3$ matrices with $8$ degrees of freedom.\n",
    "- Eight-Point Algorithm finds 8 linear constraints to determine $F$\n",
    "- The 8 linear constraints come from 8 pairs of points.\n",
    "\n",
    "<center><img src=\"figs/05_8pt.png\" width=750px alt=\"default\"/></center>\n"
   ]
  },
  {
   "cell_type": "markdown",
   "metadata": {
    "slideshow": {
     "slide_type": "slide"
    }
   },
   "source": [
    "# Compute $F$ with Eight-Point Algorithm\n",
    "\n",
    "The Eight-Point Algorithm can be used to compute the fundamental matrix $F$.\n",
    "\n",
    "$\\color{#EF5645}{\\text{Method:}}$ Consider 8 pairs of points between 2 images.\n",
    "- For each point $j$, write one linear equation in $F$: $p'^T_i F p_i = 0.$\n",
    "- Solve the linear system in $F$.\n",
    "\n",
    "<center><img src=\"figs/05_8pt.png\" width=750px alt=\"default\"/></center>"
   ]
  },
  {
   "cell_type": "markdown",
   "metadata": {
    "slideshow": {
     "slide_type": "slide"
    }
   },
   "source": [
    "# Algebraic Approach: Solving for $M_1, M_2$\n",
    "\n",
    "$\\color{#EF5645}{\\text{Given:}}$ Points $x_{ij}$ representing $X_j$ in cameras $1, 2$ with two projection matrices $M_1$ and $M_2$: \n",
    "\n",
    "$$x_{1j} = M_1 X_j, \\quad x_{2j} = M_2 X_j$$\n",
    "\n",
    "$\\color{#EF5645}{\\text{Goal (re-stated):}}$\n",
    "- Assume $M_1 H^{-1} = \\begin{bmatrix} I & 0 \\end{bmatrix}$\n",
    "- Recover camera parameters $A, b$ from $M_2H^{-1} = \\begin{bmatrix} A & b \\end{bmatrix}$.\n",
    "\n",
    "$\\color{#EF5645}{\\text{Method overview:}}$\n",
    "1.  $\\color{#EF5645}{\\text{Set-up equations in $A, b$. }}$\n",
    "2.  $\\color{#EF5645}{\\textbf{Solve equations in $A, b$. }}$\n",
    "    - Compute the fundamental matrix $F = [b]_\\times A$,\n",
    "    - **Given $F$, compute $b$,**\n",
    "    - Given $F, b$, compute $A$."
   ]
  },
  {
   "cell_type": "markdown",
   "metadata": {
    "slideshow": {
     "slide_type": "slide"
    }
   },
   "source": [
    "# Given $F$, Compute $b$ via Least Squares\n",
    "\n",
    "We set-up an equation for $b$:\n",
    "$$Fb = [b]_\\times A b = (b \\times A ) b = 0$$\n",
    "\n",
    "Compute $b$ as a least square solution of\n",
    "$$F b = 0,$$\n",
    "with $‖b‖^2 = 1$.\n"
   ]
  },
  {
   "cell_type": "markdown",
   "metadata": {
    "slideshow": {
     "slide_type": "slide"
    }
   },
   "source": [
    "# Algebraic Approach: Solving for $M_1, M_2$\n",
    "\n",
    "$\\color{#EF5645}{\\text{Given:}}$ Points $x_{ij}$ representing $X_j$ in cameras $1, 2$ with two projection matrices $M_1$ and $M_2$: \n",
    "\n",
    "$$x_{1j} = M_1 X_j, \\quad x_{2j} = M_2 X_j$$\n",
    "\n",
    "$\\color{#EF5645}{\\text{Goal (re-stated):}}$\n",
    "- Assume $M_1 H^{-1} = \\begin{bmatrix} I & 0 \\end{bmatrix}$\n",
    "- Recover camera parameters $A, b$ from $M_2H^{-1} = \\begin{bmatrix} A & b \\end{bmatrix}$.\n",
    "\n",
    "$\\color{#EF5645}{\\text{Method overview:}}$\n",
    "1.  $\\color{#EF5645}{\\text{Set-up equations in $A, b$. }}$\n",
    "2.  $\\color{#EF5645}{\\textbf{Solve equations in $A, b$. }}$\n",
    "    - Compute the fundamental matrix $F = [b]_\\times A$,\n",
    "    - Given $F$, compute $b$,\n",
    "    - **Given $F, b$, compute $A$.**"
   ]
  },
  {
   "cell_type": "markdown",
   "metadata": {
    "slideshow": {
     "slide_type": "slide"
    }
   },
   "source": [
    "# Given $F, b$, Compute $A$\n",
    "\n",
    "We know that $F = [b]_\\times A$.\n",
    "\n",
    "Thus, $A$ can be found by setting:\n",
    "$$A = - [b]_\\times F.$$\n",
    "\n",
    "Indeed, we verify that this definition satisfies $[b]_\\times A = F$:\n",
    "$$\n",
    "\\begin{align*}\n",
    "[b]_\\times A \n",
    "&= - [b]_\\times [b]_\\times F \\\\\n",
    "&= - (bb^T - |b|^2I) F \\\\\n",
    "&= - bb^TF + |b|^2F\\\\\n",
    "&= 0 + 1 \\cdot F \\\\\n",
    "&= F\n",
    "\\end{align*}\n",
    "$$"
   ]
  },
  {
   "cell_type": "markdown",
   "metadata": {
    "slideshow": {
     "slide_type": "slide"
    }
   },
   "source": [
    "# Algebraic Approach: Solving for $M_1, M_2$\n",
    "\n",
    "$\\color{#EF5645}{\\text{Given:}}$ Points $x_{ij}$ representing $X_j$ in cameras $1, 2$ with two projection matrices $M_1$ and $M_2$: \n",
    "\n",
    "$$x_{1j} = M_1 X_j, \\quad x_{2j} = M_2 X_j$$\n",
    "\n",
    "$\\color{#EF5645}{\\text{Goal (re-stated):}}$\n",
    "- Assume $M_1 H^{-1} = \\begin{bmatrix} I & 0 \\end{bmatrix}$\n",
    "- Recover camera parameters $A, b$ from $M_2H^{-1} = \\begin{bmatrix} A & b \\end{bmatrix}$.\n",
    "\n",
    "$\\color{#EF5645}{\\text{Method overview:}}$\n",
    "1.  $\\color{#EF5645}{\\text{Set-up equations in $A, b$. }}$\n",
    "2.  $\\color{#EF5645}{\\textbf{Solve equations in $A, b$. }}$\n",
    "    - Compute the fundamental matrix $F = [b]_\\times A$,\n",
    "    - Given $F$, compute $b$,\n",
    "    - **Given $F, b$, compute $A$.**"
   ]
  },
  {
   "cell_type": "markdown",
   "metadata": {
    "slideshow": {
     "slide_type": "slide"
    }
   },
   "source": [
    "# Perspective SfM: Algebraic Approach\n",
    "\n",
    "$\\color{#EF5645}{\\text{Given:}}$ Points $x_{ij}$ representing $X_j$ in cameras $1, 2$ with two projection matrices $M_1$ and $M_2$: \n",
    "\n",
    "$$x_{1j} = M_1 X_j, \\quad x_{2j} = M_2 X_j$$\n",
    "\n",
    "$\\color{#EF5645}{\\text{Method:}}$\n",
    "- Compute the camera projection matrices of all cameras, i.e. the $M_i$,\n",
    "  - by taking them two-by-two,\n",
    "- Compute the positions of the 3D points $X_j$.\n",
    "  - by applying one of the triangulation methods.\n",
    "\n",
    "\n",
    "<center><img src=\"figs/05_triang.png\" width=800px alt=\"default\"/></center>"
   ]
  },
  {
   "cell_type": "markdown",
   "metadata": {
    "slideshow": {
     "slide_type": "skip"
    }
   },
   "source": [
    "# SfM: Conclusion\n",
    "\n",
    "\n",
    "$\\color{#EF5645}{\\text{Given:}}$ Image points $x_{ij}$ representing $X_j$ in cameras $1, 2$ with two projection matrix $M_1$ and $M_2$: \n",
    "\n",
    "$$x_{1j} = M_1 X_j, \\quad x_{2j} = M_2 X_j$$\n",
    "\n",
    "$\\color{#EF5645}{\\text{Goal:}}$ Recover:\n",
    "- structure of the scene, i.e. the $X_j$\n",
    "- camera parameters $M_1, M_2$,\n",
    "- transformation $H$ such that $M_1 H^{-1} = \\begin{bmatrix} I & 0 \\end{bmatrix}$ and $M_2H^{-1} = \\begin{bmatrix} A & b \\end{bmatrix}$ as $3 \\times 4$ matrices .\n",
    "\n",
    "\n",
    "We get: \n",
    "- $M_1 H^{-1} = \\begin{bmatrix} I & 0 \\end{bmatrix}$ and $M_2H^{-1} = \\begin{bmatrix} -[b]_\\times F & b \\end{bmatrix}$, where $F$ was determined by the 8 points method.\n",
    "- $X_j$ using a triangulation method."
   ]
  },
  {
   "cell_type": "markdown",
   "metadata": {
    "slideshow": {
     "slide_type": "slide"
    }
   },
   "source": [
    "# Applications: Augmented Reality\n",
    "\n",
    "Augmented Reality:\n",
    "- requires a reconstruction of the scene\n",
    "- naturally uses a moving camera\n",
    "\n",
    "$\\rightarrow$ Perfect for Structure from Motion.\n",
    "\n",
    "$\\color{#EF5645}{\\text{Remark:}}$ Also uses:\n",
    "- accelerometers \n",
    "- the fact that the camera is moving, i.e. the knowledge of the camera pose at previous time-step\n",
    "\n",
    "<center><img src=\"figs/05_ar.jpeg\" width=500px alt=\"default\"/></center>"
   ]
  },
  {
   "cell_type": "markdown",
   "metadata": {
    "slideshow": {
     "slide_type": "slide"
    }
   },
   "source": [
    "# Applications: Augmented Reality\n",
    "\n",
    "Augmented Reality:\n",
    "- requires a reconstruction of the scene\n",
    "- naturally uses a moving camera\n",
    "\n",
    "\n",
    "<center><img src=\"figs/05_ar2.jpeg\" width=600px alt=\"default\"/></center>"
   ]
  },
  {
   "cell_type": "markdown",
   "metadata": {
    "slideshow": {
     "slide_type": "slide"
    }
   },
   "source": [
    "# From SfM to SLAM\n",
    "\n",
    "$\\color{#EF5645}{\\text{Remark:}}$ In the previous applications, the algorithms also use:\n",
    "- accelerometers \n",
    "- the fact that the camera is moving, i.e. the knowledge of the camera pose at previous time-step\n",
    "\n",
    "$\\color{#EF5645}{\\text{SLAM (Simultaneous Localization and Mapping)}}$ works in real-time on an ordered sequence of images acquired from a fixed camera set-up (i.e. one or two particular cameras).\n",
    "\n",
    "In contrast, SfM approaches:\n",
    "- often have to work on an unordered set of images,\n",
    "- often computed in the cloud with little to no time constraints,\n",
    "- might employ different cameras \n",
    "  - E.g. reconstructing notable landmarks, Eiffel tower perhaps from community photos."
   ]
  },
  {
   "cell_type": "markdown",
   "metadata": {
    "slideshow": {
     "slide_type": "slide"
    }
   },
   "source": [
    "# 3D Reconstruction\n",
    "\n",
    "- [Triangulation](#sec-syllabus)\n",
    "  \n",
    "- [Structure from Motion](#sec-ece)\n",
    "\n",
    "- **[Active and Volumetric Stereo](#sec-ece)**\n",
    "  - **Stereo: definitions**\n",
    "  - Active Stereo\n",
    "  - Volumetric Stereo\n",
    "\n",
    "- [Reconstruction in Biology (invited speaker)](#sec-ece)"
   ]
  },
  {
   "cell_type": "markdown",
   "metadata": {
    "slideshow": {
     "slide_type": "slide"
    }
   },
   "source": [
    "# Stereo: Definitions\n",
    "\n",
    "\n",
    "$\\color{#EF5645}{\\text{Stereo}}$ is the extraction of 3D information from digital images.\n",
    "\n",
    "$\\color{#EF5645}{\\text{Traditional stereo}}$ uses corresponding points $p$ and $p'$ to estimate the location of a 3D point $P$ by triangulation.\n",
    "\n",
    "$\\rightarrow$ What we have been using until now.\n",
    "\n",
    "<center><img src=\"figs/05_triang.png\" width=800px alt=\"default\"/></center>\n",
    "\n",
    "\n",
    "\n",
    "\n",
    "\n",
    "\n",
    "\n"
   ]
  },
  {
   "cell_type": "markdown",
   "metadata": {
    "slideshow": {
     "slide_type": "slide"
    }
   },
   "source": [
    "# Limitations of Traditional Stereo\n",
    "\n",
    "Limitations of traditional stereo:\n",
    "- How can we know that $p$ and $p'$ are actually corresponding points?\n",
    "\n",
    "<center><img src=\"figs/05_triang.png\" width=900px alt=\"default\"/></center>\n"
   ]
  },
  {
   "cell_type": "markdown",
   "metadata": {
    "slideshow": {
     "slide_type": "slide"
    }
   },
   "source": [
    "# Stereo: Definitions\n",
    "\n",
    "$\\color{#EF5645}{\\text{Stereo}}$ is the extraction of 3D information from digital images.\n",
    "\n",
    "\n",
    "$\\color{#EF5645}{\\text{Active stereo}}$ replaces one of the two cameras with a device that projects a pattern onto the object that is easily identifiable from the second camera.\n",
    "\n",
    "\n",
    "$\\color{#EF5645}{\\text{Volumetric stereo}}$ samples points from a working 3D volume and performs consistency checks to reconstruct the 3D shape."
   ]
  },
  {
   "cell_type": "markdown",
   "metadata": {
    "cell_style": "split"
   },
   "source": [
    "<center><img src=\"figs/05_astereo.png\" width=650px alt=\"default\"/></center>\n"
   ]
  },
  {
   "cell_type": "markdown",
   "metadata": {
    "cell_style": "split"
   },
   "source": [
    "<center><img src=\"figs/05_vstereo.png\" width=500px alt=\"default\"/></center>\n"
   ]
  },
  {
   "cell_type": "markdown",
   "metadata": {
    "slideshow": {
     "slide_type": "slide"
    }
   },
   "source": [
    "# 3D Reconstruction\n",
    "\n",
    "- [Triangulation](#sec-syllabus)\n",
    "  \n",
    "- [Structure from Motion](#sec-ece)\n",
    "\n",
    "- **[Active and Volumetric Stereo](#sec-ece)**\n",
    "  - Stereo: definitions\n",
    "  - **Active Stereo**\n",
    "  - Volumetric Stereo\n",
    "\n",
    "- [Reconstruction in Biology (invited speaker)](#sec-ece)"
   ]
  },
  {
   "cell_type": "markdown",
   "metadata": {
    "slideshow": {
     "slide_type": "slide"
    }
   },
   "source": [
    "# Active Stereo: Point $P$\n",
    "\n",
    "$\\color{#EF5645}{\\text{Active stereo}}$ replaces one of the two cameras with a device that projects a pattern onto the object that is easily identifiable from the second camera.\n",
    "\n",
    "<center><img src=\"figs/05_astereo.png\" width=800px alt=\"default\"/></center>\n",
    "\n",
    "$\\color{#EF5645}{\\text{Remark}}$: The image plane of the first camera is replaced by a projector virtual plane."
   ]
  },
  {
   "cell_type": "markdown",
   "metadata": {
    "slideshow": {
     "slide_type": "slide"
    }
   },
   "source": [
    "# Active Stereo: Point $P$\n",
    "\n",
    "$\\color{#EF5645}{\\text{Active stereo}}$ replaces one of the two cameras with a device that projects a pattern onto the object that is easily identifiable from the second camera.\n",
    "\n",
    "<center><img src=\"figs/05_astereo.png\" width=600px alt=\"default\"/></center>\n",
    "\n",
    "\n",
    "$\\rightarrow$ correspondence problem solved!\n",
    "- we know what $p$ we are projecting, e.g. bright red dot,\n",
    "- thus we know how to look out for $p'$."
   ]
  },
  {
   "cell_type": "markdown",
   "metadata": {
    "slideshow": {
     "slide_type": "slide"
    }
   },
   "source": [
    "# Active Stereo: Line $S$\n",
    "\n",
    "$\\color{#EF5645}{\\text{Active stereo}}$ replaces one of the two cameras with a device that projects a pattern onto the object that is easily identifiable from the second camera.\n",
    "\n",
    "<center><img src=\"figs/05_astereo2.png\" width=850px alt=\"default\"/></center>\n",
    "\n",
    "To get several points:\n",
    "- Project a vertical stripe $s$ instead of a single point $p$.\n",
    "- Swipe the line across the scene\n",
    "\n",
    "$\\rightarrow$ Recover the entire shape.\n",
    "\n",
    "\n"
   ]
  },
  {
   "cell_type": "markdown",
   "metadata": {
    "slideshow": {
     "slide_type": "slide"
    }
   },
   "source": [
    "# Active Stereo: Line $S$ - Limitations\n",
    "\n",
    "$\\color{#EF5645}{\\text{Active stereo}}$ replaces one of the two cameras with a device that projects a pattern onto the object that is easily identifiable from the second camera.\n",
    "\n",
    "<center><img src=\"figs/05_astereo2.png\" width=800px alt=\"default\"/></center>\n",
    "\n",
    "Limitations:\n",
    "- slow: need to swipe across the entire object\n",
    "- cannot capture deformations in real time.\n",
    "\n"
   ]
  },
  {
   "cell_type": "markdown",
   "metadata": {
    "slideshow": {
     "slide_type": "slide"
    }
   },
   "source": [
    "# Active Stereo: Patterns\n",
    "\n",
    "$\\color{#EF5645}{\\text{Active stereo}}$ replaces one of the two cameras with a device that projects a pattern onto the object that is easily identifiable from the second camera.\n",
    "\n",
    "<center><img src=\"figs/05_astereo3.png\" width=800px alt=\"default\"/></center>\n",
    "\n",
    "Instead of projecting a single stripe:\n",
    "- project known pattern of different stripes to the entire object.\n",
    "\n",
    "$\\rightarrow$ addresses previous limitations.\n",
    "\n",
    "$\\color{#EF5645}{\\text{Remark}}$: Colors of these stripes are designed such that stripes can be uniquely identified from the image.\n",
    "\n",
    "\n",
    "\n",
    "\n"
   ]
  },
  {
   "cell_type": "markdown",
   "metadata": {
    "slideshow": {
     "slide_type": "slide"
    }
   },
   "source": [
    "# Active Stereo: Patterns\n",
    "\n",
    "$\\color{#EF5645}{\\text{Active stereo}}$ replaces one of the two cameras with a device that projects a pattern onto the object that is easily identifiable from the second camera.\n",
    "\n",
    "<center><img src=\"figs/05_astereo3.png\" width=600px alt=\"default\"/></center>\n",
    "\n",
    "\n",
    "$\\color{#EF5645}{\\text{Remark}}$: Colors of the stripes are designed such that stripes can be uniquely identified from the image.\n"
   ]
  },
  {
   "cell_type": "markdown",
   "metadata": {
    "slideshow": {
     "slide_type": "slide"
    }
   },
   "source": [
    "# Active Stereo: Patterns\n",
    "\n",
    "- Kinect v1 is an active 3D depth estimation setup...\n",
    "\n",
    "<center><img src=\"figs/05_kinect.png\" width=800px alt=\"default\"/></center>"
   ]
  },
  {
   "cell_type": "markdown",
   "metadata": {
    "slideshow": {
     "slide_type": "slide"
    }
   },
   "source": [
    "# Active Stereo: Patterns\n",
    "\n",
    "- Kinect v1 is an active 3D depth estimation setup...\n",
    "- ... that employs IR laser structured patterns for depth calculation.\n",
    "\n",
    "\n",
    "<center><img src=\"figs/05_kinect.png\" width=800px alt=\"default\"/></center>"
   ]
  },
  {
   "cell_type": "markdown",
   "metadata": {
    "slideshow": {
     "slide_type": "slide"
    }
   },
   "source": [
    "# Active Stereo: Conclusion\n",
    "\n",
    "\n",
    "- Powers many versions of modern depth sensors:\n",
    "  - e.g. original version of the Microsoft Kinect. \n",
    "- In practice, these sensors use infrared laser projectors:\n",
    "  - allows it to capture video data in 3D under any ambient light conditions."
   ]
  },
  {
   "cell_type": "markdown",
   "metadata": {
    "slideshow": {
     "slide_type": "slide"
    }
   },
   "source": [
    "# 3D Reconstruction\n",
    "\n",
    "- [Triangulation](#sec-syllabus)\n",
    "  \n",
    "- [Structure from Motion](#sec-ece)\n",
    "\n",
    "- **[Active and Volumetric Stereo](#sec-ece)**\n",
    "  - Stereo: definitions\n",
    "  - Active Stereo\n",
    "  - **Volumetric Stereo**\n",
    "\n",
    "- [Reconstruction in Biology (invited speaker)](#sec-ece)"
   ]
  },
  {
   "cell_type": "markdown",
   "metadata": {
    "slideshow": {
     "slide_type": "slide"
    }
   },
   "source": [
    "# Volumetric Stereo\n",
    "\n",
    "\n",
    "$\\color{#EF5645}{\\text{Volumetric stereo}}$ samples points from a working 3D volume and performs \"**consistency checks**\" to reconstruct the 3D shape.\n",
    "- E.g. checks that the point currently sampled can belong to the object.\n",
    "\n",
    "\n",
    "<center><img src=\"figs/05_vstereo.png\" width=800px alt=\"default\"/></center>\n",
    "\n",
    "$\\color{#EF5645}{\\text{Remark:}}$ This requires a limited \"working\" volume:\n",
    "- mostly used for recovering 3D models of specific objects,\n",
    "- not used to reconstruct a scene, which may be unbounded.\n",
    "\n"
   ]
  },
  {
   "cell_type": "markdown",
   "metadata": {
    "slideshow": {
     "slide_type": "slide"
    }
   },
   "source": [
    "# Volumetric Stereo: Applications\n",
    "\n",
    "Teach an AI to dance? Need to construct a training dataset.\n",
    "\n",
    "$\\rightarrow$ Reconstruct 3D volume of dancing bodies.\n",
    "\n",
    "<center><img src=\"figs/05_ex_volm.png\" width=400px alt=\"default\"/></center>\n",
    "\n",
    "<center>Reconstruction compared to shape-from-silhouette and multi-view stereo for an 8 camera setup with 45 • camera baseline and 2MPixel resolution. [Starck 2006].</center>\n",
    "\n"
   ]
  },
  {
   "cell_type": "markdown",
   "metadata": {
    "slideshow": {
     "slide_type": "slide"
    }
   },
   "source": [
    "# Consistency Checks and Main Techniques\n"
   ]
  },
  {
   "cell_type": "markdown",
   "metadata": {
    "cell_style": "split",
    "slideshow": {
     "slide_type": "-"
    }
   },
   "source": [
    "\n",
    "What are \"consistency checks\"?\n",
    "\n",
    "$\\rightarrow$ different techniques:\n",
    "- space carving\n",
    "- shadow carving, and \n",
    "- voxel coloring."
   ]
  },
  {
   "cell_type": "markdown",
   "metadata": {
    "cell_style": "split"
   },
   "source": [
    "<center><img src=\"figs/05_vstereo.png\" width=800px alt=\"default\"/></center>"
   ]
  },
  {
   "cell_type": "markdown",
   "metadata": {
    "slideshow": {
     "slide_type": "slide"
    }
   },
   "source": [
    "# Consistency Checks and Main Techniques\n"
   ]
  },
  {
   "cell_type": "markdown",
   "metadata": {
    "cell_style": "split"
   },
   "source": [
    "\n",
    "What are \"consistency checks\"?\n",
    "\n",
    "$\\rightarrow$ different techniques:\n",
    "- **space carving**\n",
    "- shadow carving, and \n",
    "- voxel coloring."
   ]
  },
  {
   "cell_type": "markdown",
   "metadata": {
    "cell_style": "split"
   },
   "source": [
    "<center><img src=\"figs/05_vstereo.png\" width=800px alt=\"default\"/></center>"
   ]
  },
  {
   "cell_type": "markdown",
   "metadata": {
    "slideshow": {
     "slide_type": "slide"
    }
   },
   "source": [
    "# Space Carving\n",
    "\n",
    "$\\color{#EF5645}{\\text{Space Carving:}}$ is a method of volumetric stereo that:\n",
    "- Computes boundaries of the object in each camera view: **Contour detection**\n",
    "- Scans through the bounding volume and projects in each image's view\n",
    "- **Consistency check**: \n",
    "  - Keeps points that are inside the object's pre-computed contour\n",
    "\n",
    "<center><img src=\"figs/05_space_carving.png\" width=800px alt=\"default\"/></center>"
   ]
  },
  {
   "cell_type": "markdown",
   "metadata": {
    "slideshow": {
     "slide_type": "slide"
    }
   },
   "source": [
    "# Space Carving: Definitions\n",
    "\n",
    "\n",
    "$\\color{#EF5645}{\\text{The silhouette}}$ of an object is the set of all pixels that form the visible portion of the object.\n",
    "\n",
    "$\\color{#EF5645}{\\text{The visual cone}}$ is the set of all possible points that can project into the silhouette of the object in the image.\n",
    "\n",
    "\n",
    "<center><img src=\"figs/05_silhouette_cone.png\" width=800px alt=\"default\"/></center>\n"
   ]
  },
  {
   "cell_type": "markdown",
   "metadata": {
    "slideshow": {
     "slide_type": "slide"
    }
   },
   "source": [
    "# Space Carving: Silhouettes\n",
    "\n",
    "<center><img src=\"figs/05_silhouettes.png\" width=800px alt=\"default\"/></center>"
   ]
  },
  {
   "cell_type": "markdown",
   "metadata": {
    "slideshow": {
     "slide_type": "slide"
    }
   },
   "source": [
    "# Space Carving: Visual Hull\n",
    "\n",
    "$\\color{#EF5645}{\\text{Space Carving:}}$ \n",
    "- **Consistency check**: \n",
    "  - Keeps points that are inside the object's pre-computed contour\n",
    "\n",
    "\n",
    "$\\rightarrow$ object lies in the working volume and the intersection of each camera's visual cone.\n",
    "\n",
    "$\\color{#EF5645}{\\text{The visual hull}}$ is the intersection of the visual cones of the cameras.\n",
    "\n",
    "\n",
    "<center><img src=\"figs/05_visual_hull.png\" width=750px alt=\"default\"/></center>"
   ]
  },
  {
   "cell_type": "markdown",
   "metadata": {
    "slideshow": {
     "slide_type": "slide"
    }
   },
   "source": [
    "# Space Carving: Result\n",
    "\n",
    "<center><img src=\"figs/05_space_carving2.png\" width=900px alt=\"default\"/></center>"
   ]
  },
  {
   "cell_type": "markdown",
   "metadata": {
    "slideshow": {
     "slide_type": "slide"
    }
   },
   "source": [
    "# Space Carving: Limitations\n",
    "\n",
    "- Trade-off resolution versus efficiency: \n",
    "  - Scales linearly with the number of voxels in the grid.\n",
    "  - Scales cubically with the resolution:\n",
    "      - Increase resolution \n",
    "      - $\\rightarrow$ reduce the size of each voxel\n",
    "      - $\\rightarrow$ number of voxels required increases cubically. \n",
    "      - $\\rightarrow$ large increases in computational time.\n",
    "\n",
    "\n",
    "\n",
    "<center><img src=\"figs/05_space_carving2.png\" width=500px alt=\"default\"/></center>"
   ]
  },
  {
   "cell_type": "markdown",
   "metadata": {
    "slideshow": {
     "slide_type": "slide"
    }
   },
   "source": [
    "# Space Carving: Limitations (2)\n",
    "\n",
    "- Accuracy not robust and strongly depends on:\n",
    "  - the number of views, i.e. the number of cameras\n",
    "  - the preciseness of the silhouette, i.e. the quality of contour detection method.\n",
    "  \n",
    "$\\rightarrow$ we can end of up with a very loose estimate of the visual hull of the object.\n",
    "\n",
    "\n",
    "\n",
    "<center><img src=\"figs/05_space_carving2.png\" width=500px alt=\"default\"/></center>"
   ]
  },
  {
   "cell_type": "markdown",
   "metadata": {
    "slideshow": {
     "slide_type": "slide"
    }
   },
   "source": [
    "# Space Carving: Limitations (3)\n",
    "\n",
    "\n",
    "- Concavitiy:\n",
    "    - Incapable of modeling certain object's concavities.\n",
    "\n",
    "<center><img src=\"figs/05_concave.png\" width=850px alt=\"default\"/></center>"
   ]
  },
  {
   "cell_type": "markdown",
   "metadata": {
    "slideshow": {
     "slide_type": "slide"
    }
   },
   "source": [
    "# Remark: Green Background to Improve Silhouettes\n",
    "\n",
    "As space curving relies on good silhouette detection (contour detection), we can help this process by using convenient backgrounds, e.g. green backgrounds.\n",
    "\n",
    "<center><img src=\"figs/05_matrix.jpeg\" width=600px alt=\"default\"/></center>\n",
    "\n",
    "\n",
    "$\\color{#EF5645}{\\text{Remarks:}}$\n",
    "- Why green? In short: because people are not green.\n",
    "- Green screens have many other applications, e.g. allow us to put in the desired background."
   ]
  },
  {
   "cell_type": "markdown",
   "metadata": {
    "slideshow": {
     "slide_type": "slide"
    }
   },
   "source": [
    "# Consistency Checks and Main Techniques\n"
   ]
  },
  {
   "cell_type": "markdown",
   "metadata": {
    "cell_style": "split",
    "slideshow": {
     "slide_type": "-"
    }
   },
   "source": [
    "What are \"consistency checks\"?\n",
    "\n",
    "$\\rightarrow$ different techniques:\n",
    "- space carving\n",
    "- **shadow carving**, and \n",
    "- voxel coloring."
   ]
  },
  {
   "cell_type": "markdown",
   "metadata": {
    "cell_style": "split"
   },
   "source": [
    "<center><img src=\"figs/05_vstereo.png\" width=600px alt=\"default\"/></center>"
   ]
  },
  {
   "cell_type": "markdown",
   "metadata": {
    "slideshow": {
     "slide_type": "slide"
    }
   },
   "source": [
    "# Shadow Carving\n",
    "\n",
    "\n",
    "$\\color{#EF5645}{\\text{Shadow carving}}$ augments space carving by using **self-shadows** to better estimate the concavities.\n",
    "\n",
    "$\\color{#EF5645}{\\text{Self-Shadows}}$ are the shadows that an object projects on itself.\n",
    "\n",
    "\n",
    "$\\color{#047C91}{\\text{Example}}$: Concave objects often cast self-shadows in the concave region.\n",
    "\n",
    "<center><img src=\"figs/05_shadows.png\" width=200px alt=\"default\"/></center>\n"
   ]
  },
  {
   "cell_type": "markdown",
   "metadata": {
    "slideshow": {
     "slide_type": "slide"
    }
   },
   "source": [
    "# Shadow Carving\n",
    "\n",
    "\n",
    "$\\color{#EF5645}{\\text{Shadow carving}}$ augments space carving by using **self-shadows** to better estimate the concavities.\n",
    "- Add array of lights in known positions around the camera.\n",
    "- Turn them on and off to create self-shadows.\n",
    "\n",
    "<center><img src=\"figs/05_shadow_carving.png\" width=700px alt=\"default\"/></center>\n"
   ]
  },
  {
   "cell_type": "markdown",
   "metadata": {
    "slideshow": {
     "slide_type": "slide"
    }
   },
   "source": [
    "# Shadow Carving\n",
    "\n",
    "$\\color{#EF5645}{\\text{Shadow carving}}$ augments space carving by using **self-shadows** to better estimate the concavities.\n",
    "- Add array of lights in known positions around the camera.\n",
    "- Turn them on and off to create self-shadows.\n",
    "  - Each light produces a different self-shadow on the object. \n",
    "    - Identify pixels from the shadow in the image plane.\n",
    "    - Find voxels from the visual cone of the shadow. \n",
    "    - Eliminate voxels in the concavity.\n",
    "\n",
    "\n",
    "<center><img src=\"figs/05_shadow_carving2.png\" width=700px alt=\"default\"/></center>"
   ]
  },
  {
   "cell_type": "markdown",
   "metadata": {
    "slideshow": {
     "slide_type": "slide"
    }
   },
   "source": [
    "# Space versus Shadow Carving\n",
    "\n",
    "$\\color{#EF5645}{\\text{Shadow carving}}$ augments space carving by using **self-shadows** to better estimate the concavities.\n",
    "\n",
    "<center><img src=\"figs/05_space_vs_shadow.png\" width=900px alt=\"default\"/></center>"
   ]
  },
  {
   "cell_type": "markdown",
   "metadata": {
    "slideshow": {
     "slide_type": "slide"
    }
   },
   "source": [
    "# Space versus Shadow Carving\n",
    "\n",
    "$\\color{#EF5645}{\\text{Shadow carving}}$ augments space carving by using **self-shadows** to better estimate the concavities.\n",
    "\n",
    "<center><img src=\"figs/05_space_vs_shadow2.png\" width=400px alt=\"default\"/></center>\n",
    "<center>Top: Space Carving. Bottom: Shadow Carving.</center>"
   ]
  },
  {
   "cell_type": "markdown",
   "metadata": {
    "slideshow": {
     "slide_type": "slide"
    }
   },
   "source": [
    "# Shadow Carving: Limitations\n",
    "\n",
    "- Trade-off resolution versus efficiency: \n",
    "  - Runtime dependent on the resolution of the voxel grid: scales cubically.\n",
    "  - With N lights, then shadow carving takes approximately N + 1 times longer than space carving:\n",
    "    - Because each voxel needs to be projected into the camera and each of the N lights.\n",
    "\n",
    "\n",
    "<center><img src=\"figs/05_shadow_carving2.png\" width=800px alt=\"default\"/></center>\n"
   ]
  },
  {
   "cell_type": "markdown",
   "metadata": {
    "slideshow": {
     "slide_type": "slide"
    }
   },
   "source": [
    "# Shadow Carving: Limitations (2)\n",
    "\n",
    "- Cannot handle cases all types of objects:\n",
    "  - Example: Cannot reconstruct objects with reflective or low albedo regions\n",
    "    - Because shadows cannot be detected accurately in such conditions.\n",
    "\n",
    "<center><img src=\"figs/05_shadow_carving2.png\" width=800px alt=\"default\"/></center>\n"
   ]
  },
  {
   "cell_type": "markdown",
   "metadata": {
    "slideshow": {
     "slide_type": "slide"
    }
   },
   "source": [
    "# Consistency Checks and Main Techniques"
   ]
  },
  {
   "cell_type": "markdown",
   "metadata": {
    "cell_style": "split",
    "slideshow": {
     "slide_type": "-"
    }
   },
   "source": [
    "What are \"consistency checks\"?\n",
    "\n",
    "$\\rightarrow$ different techniques:\n",
    "- space carving\n",
    "- shadow carving, and \n",
    "- **voxel coloring.**"
   ]
  },
  {
   "cell_type": "markdown",
   "metadata": {
    "cell_style": "split"
   },
   "source": [
    "<center><img src=\"figs/05_vstereo.png\" width=600px alt=\"default\"/></center>"
   ]
  },
  {
   "cell_type": "markdown",
   "metadata": {
    "slideshow": {
     "slide_type": "slide"
    }
   },
   "source": [
    "# Voxel Coloring\n",
    "\n",
    "$\\color{#EF5645}{\\text{Voxel Coloring}}$ modifies space carving by using color consistency instead of contour consistency.\n",
    "\n",
    "\n",
    "\n",
    "<center><img src=\"figs/05_voxel_coloring.png\" width=900px alt=\"default\"/></center>\n",
    "\n"
   ]
  },
  {
   "cell_type": "markdown",
   "metadata": {
    "slideshow": {
     "slide_type": "slide"
    }
   },
   "source": [
    "# Voxel Coloring\n",
    "\n",
    "$\\color{#EF5645}{\\text{Voxel Coloring}}$ modifies space carving by using color consistency instead of contour consistency.\n",
    "\n",
    "For each (colored) voxel:\n",
    "- Look at its corresponding projections in each of the images.\n",
    "- Compare the color of each of these projections. \n",
    "- **Consistency check**:\n",
    "  - If the colors of these projections **sufficiently match**, then mark the voxel as part of the object. \n",
    "\n",
    "\n",
    "<center><img src=\"figs/05_voxel_coloring.png\" width=400px alt=\"default\"/></center>\n"
   ]
  },
  {
   "cell_type": "markdown",
   "metadata": {
    "slideshow": {
     "slide_type": "slide"
    }
   },
   "source": [
    "# Voxel Coloring: Advantages\n",
    "\n",
    "Advantage (Compared to space carving and shadow carving):\n",
    "- color associated with the projections can be transferred to the voxel, giving a colored reconstruction.\n",
    "\n",
    "<center><img src=\"figs/05_voxel_coloring.png\" width=400px alt=\"default\"/></center>"
   ]
  },
  {
   "cell_type": "markdown",
   "metadata": {
    "slideshow": {
     "slide_type": "slide"
    }
   },
   "source": [
    "# Voxel Coloring: Limitations\n",
    "\n",
    "Limitations:\n",
    "- Reconstruction not necessarily unique. \n",
    "  - Finding the true, unique solution complicates the problem of reconstruction by voxel coloring\n",
    "  - Possible to remove the ambiguity in the reconstruction by introducing a visibility constraint on the voxel, which requires that the voxels be traversed in a particular order.\n",
    "\n",
    "\n",
    "<center><img src=\"figs/05_vanilla_voxel_coloring.png\" width=800px alt=\"default\"/></center>"
   ]
  },
  {
   "cell_type": "markdown",
   "metadata": {
    "slideshow": {
     "slide_type": "slide"
    }
   },
   "source": [
    "# 3D Reconstruction\n",
    "\n",
    "- [Triangulation](#sec-syllabus)\n",
    "  \n",
    "- [Structure from Motion](#sec-ece)\n",
    "\n",
    "- **[Active and Volumetric Stereo](#sec-ece)**\n",
    "  - Stereo: definitions\n",
    "  - Active Stereo\n",
    "  - **Volumetric Stereo**\n",
    "\n",
    "- [Reconstruction in Biology (invited speaker)](#sec-ece)"
   ]
  }
 ],
 "metadata": {
  "celltoolbar": "Slideshow",
  "kernelspec": {
   "display_name": "Python 3 (ipykernel)",
   "language": "python",
   "name": "python3"
  },
  "language_info": {
   "codemirror_mode": {
    "name": "ipython",
    "version": 3
   },
   "file_extension": ".py",
   "mimetype": "text/x-python",
   "name": "python",
   "nbconvert_exporter": "python",
   "pygments_lexer": "ipython3",
   "version": "3.9.9"
  }
 },
 "nbformat": 4,
 "nbformat_minor": 2
}

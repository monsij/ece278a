{
 "cells": [
  {
   "cell_type": "markdown",
   "metadata": {
    "slideshow": {
     "slide_type": "slide"
    }
   },
   "source": [
    "# Image Formation\n",
    "\n",
    "Nina Miolane, UC Santa Barbara"
   ]
  },
  {
   "cell_type": "markdown",
   "metadata": {},
   "source": [
    "<center><img src=\"figs/00_dip.jpeg\" width=900px alt=\"default\"/></center>\n"
   ]
  },
  {
   "cell_type": "markdown",
   "metadata": {
    "slideshow": {
     "slide_type": "slide"
    }
   },
   "source": [
    "# Image Formation\n",
    "\n",
    "Before we can analyze and manipulate images, we need to:\n",
    "- establish a vocabulary for describing the geometry of a scene,\n",
    "- understand the image formation process given camera parameters. \n",
    "\n",
    "<center><img src=\"figs/01_lens3.jpg\" width=950px alt=\"default\"/></center>"
   ]
  },
  {
   "cell_type": "markdown",
   "metadata": {
    "slideshow": {
     "slide_type": "slide"
    }
   },
   "source": [
    "# Image Formation\n",
    "\n",
    "- [Math Vocabulary: Geometric Primitives and Transformations](#sec-syllabus)\n",
    "\n",
    "- [Image Formation: 3D to 2D Projections](#sec-ece)\n",
    "\n",
    "- [Image Formation: Camera Parameters](#sec-ece)\n",
    "\n",
    "<center><img src=\"figs/00_dip.jpeg\" width=600px alt=\"default\"/></center>\n"
   ]
  },
  {
   "cell_type": "markdown",
   "metadata": {
    "slideshow": {
     "slide_type": "slide"
    }
   },
   "source": [
    "# Image Formation\n",
    "\n",
    "- **[Math Vocabulary: Geometric Primitives and Transformations](#sec-syllabus)**\n",
    "\n",
    "- [Image Formation: 3D to 2D Projections](#sec-ece)\n",
    "\n",
    "- [Image Formation: Camera Parameters](#sec-ece)\n",
    "\n",
    "<center><img src=\"figs/00_dip.jpeg\" width=600px alt=\"default\"/></center>\n"
   ]
  },
  {
   "cell_type": "markdown",
   "metadata": {
    "slideshow": {
     "slide_type": "slide"
    }
   },
   "source": [
    "# Geometric Primitives: 2D Points\n",
    "\n",
    "$\\color{#EF5645}{\\text{2D points}}$ (pixel coordinates in an image) are denoted:\n",
    "- with a pair of values: $( x,y ) \\in \\mathbb{R}^2$ (\"inhomogeneous coordinates\"),\n",
    "- with homogeneous coordinates, also called projective coordinates:\n",
    "  - by $\\bar x = (x, y, 1)$, called the augmented vector,\n",
    "  - or by $(kx, ky, k)$ for any $k \\in \\mathbb{R}$.\n",
    " \n",
    "$\\color{#EF5645}{\\text{Remark}}$: In homogeneous coordinates, vectors differing only by scale are equivalent. \n",
    "\n",
    "$\\color{#047C91}{\\text{Exercise}}$: Give examples of homogeneous coordinates for the 2D point $(2, 3)$.\n"
   ]
  },
  {
   "cell_type": "markdown",
   "metadata": {
    "slideshow": {
     "slide_type": "slide"
    }
   },
   "source": [
    "# 2D Projective Space\n",
    "\n",
    "$\\color{#EF5645}{\\text{The 2D projective space $P^2$}}$ is the set of equivalence classes of $\\mathbb{R}^3 - \\{0\\} $ under the equivalence relation ~ defined by:\n",
    "\n",
    "<center>$x \\sim y$ if there is a nonzero element $k$ of $\\mathbb{R}$ such that $x = ky$.</center>\n",
    "\n",
    "2D points can be seen as elements of the 2D projective space."
   ]
  },
  {
   "cell_type": "markdown",
   "metadata": {},
   "source": [
    "<center><img src=\"figs/01_homogeneous.png\" width=400px alt=\"default\"/></center>"
   ]
  },
  {
   "cell_type": "markdown",
   "metadata": {
    "slideshow": {
     "slide_type": "slide"
    }
   },
   "source": [
    "# Geometric Primitives: 2D Lines\n",
    "\n",
    "$\\color{#EF5645}{\\text{2D lines}}$ are represented:\n",
    "- with the coefficients $a, b, c$ forming an implicit equation: $ax + by + c = 0$,\n",
    "- if $b \\neq 0$, by the equation: $y = \\frac{a}{b}x + \\frac{c}{b}$,\n",
    "- equivalently, by the point of the 2D projective space $l = (a, b, c)$. \n",
    "  - The corresponding line equation is: $\\bar x. l = ax + by + c = 0.$\n",
    "  \n",
    "  \n",
    "$\\color{#047C91}{\\text{Exercise}}$: Consider a 2D line $l = (a, b, c)$. \n",
    "- Given a nonzero $k$, show that $(ka, kb, kc)$ describes the same line."
   ]
  },
  {
   "cell_type": "markdown",
   "metadata": {
    "slideshow": {
     "slide_type": "slide"
    }
   },
   "source": [
    "# Geometric Primitives: 3D Points\n",
    "\n",
    "$\\color{#EF5645}{\\text{3D points}}$ are represented:\n",
    "- with inhomogeneous coordinates $( x,y,z ) \\in \\mathbb{R}^3$,\n",
    "- with homogeneous coordinates :\n",
    "  - by $\\bar x =( x, y, z, 1)$ the augmented vector,\n",
    "  - by $(kx, k y, k z, k)$ for any $k\\in \\mathbb{R}-{0}$, i.e. in the 3D projective space $P^3$.\n",
    "  \n",
    "$\\color{#047C91}{\\text{Example}}$: What is the 3D point represented in homogeneous coordinates by $(2, 4, 6, 2)$?"
   ]
  },
  {
   "cell_type": "markdown",
   "metadata": {
    "slideshow": {
     "slide_type": "slide"
    }
   },
   "source": [
    "# Geometric Primitives: 3D Planes\n",
    "\n",
    "$\\color{#EF5645}{\\text{3D planes}}$ are represented:\n",
    "- with coefficients $a, b, c, d$ forming the implicit equation: $ax + by + cz + d = 0$\n",
    "- equivalently, by the point of the 3D projective space denoted for example with $m =( a,b,c,d )$. \n",
    "  - The corresponding plane equation is: $\\bar x. m = ax + by + cz + d = 0.$\n"
   ]
  },
  {
   "cell_type": "markdown",
   "metadata": {
    "slideshow": {
     "slide_type": "slide"
    }
   },
   "source": [
    "# Introducing Geometric Transformations\n",
    "\n",
    "- Points can be written in inhomogeneous $x$ or homogeneous coordinates $\\bar x$.\n",
    "- Geometric transformations map points $x$ to points $x'$, that can be written:\n",
    "  - using coordinates $x, x'$,\n",
    "  - using coordinates $\\bar x, \\bar  x'$,\n",
    "  - using coordinates $x, \\bar  x'$,\n",
    "  - using coordinates $\\bar x, x'$.\n",
    " \n",
    "$\\color{#EF5645}{\\text{Remark}}$: Homogeneous/projective coordinates will be useful to describe projections."
   ]
  },
  {
   "cell_type": "markdown",
   "metadata": {
    "slideshow": {
     "slide_type": "slide"
    }
   },
   "source": [
    "# 2D Transformations: Translations\n",
    "\n",
    "$\\color{#EF5645}{\\text{2D Translation}}$ by a vector $t \\in \\mathbb{R}^2$ can be written:\n",
    "- $x'=x+t$,\n",
    "- $x' = \\begin{bmatrix} I & t \\end{bmatrix}  \\bar x,$\n",
    "- $ \\bar x' = \\begin{bmatrix} I & t \\\\ 0^T & 1 \\end{bmatrix} \\bar x,$\n",
    "\n",
    "where $I$ is the $2 \\times 2$ identity matrix.\n",
    "\n",
    "$\\color{#047C91}{\\text{Exercise}}$: Show the above computations."
   ]
  },
  {
   "cell_type": "markdown",
   "metadata": {
    "slideshow": {
     "slide_type": "slide"
    }
   },
   "source": [
    "# 2D Transformations: Rigid-Body Motions\n",
    "\n",
    "$\\color{#EF5645}{\\text{2D Rigid-Body Motion}}$, also known as a 2D Euclidean transformation, is defined by a 2D rotation and a 2D translation. It can be written as:\n",
    "- $x′ = Rx + t$,\n",
    "- $x′ = \\begin{bmatrix} R & t \\end{bmatrix}  \\bar x$,\n",
    "- $ \\bar x′ = \\begin{bmatrix} R & t \\\\ 0^T & 1 \\end{bmatrix} \\bar x,$\n",
    "\n",
    "where  $R= \\begin{bmatrix} \\cos \\theta & - \\sin \\theta \\\\  \n",
    "\\sin \\theta & \\cos \\theta  \\end{bmatrix}$ is an orthonormal rotation matrix.\n",
    "\n",
    "$\\color{#6D7D33}{\\text{Properties}}$: Rigid-body motions preserve:\n",
    "- distances between points,\n",
    "- angles between lines (thus also parallelism)."
   ]
  },
  {
   "cell_type": "markdown",
   "metadata": {
    "slideshow": {
     "slide_type": "slide"
    }
   },
   "source": [
    "# 2D Transformations: Similarities\n",
    "\n",
    "$\\color{#EF5645}{\\text{Similarity}}$, also called scaled rotation, adds a scaling $s \\in \\mathbb{R}_+$ to the 2D Rigid-Body Motion. It can be written as:\n",
    "- $x′ = sRx + t$\n",
    "- $x′ \n",
    "= \\begin{bmatrix} sR & t \\end{bmatrix}  \\bar x \n",
    "= \\begin{bmatrix} a & - b &t_x \\\\  b & a  & t_y \\end{bmatrix} \\bar x $\n",
    "\n",
    "where we no longer require that $a^2 + b^2 = 1$. \n",
    "\n",
    "$\\color{#6D7D33}{\\text{Properties}}$: Similarities preserve:\n",
    "- angles between lines (thus also parallelism).\n"
   ]
  },
  {
   "cell_type": "markdown",
   "metadata": {
    "slideshow": {
     "slide_type": "slide"
    }
   },
   "source": [
    "# 2D Transformations: Affine\n",
    "\n",
    "$\\color{#EF5645}{\\text{Affine transformation}}$ is written as:\n",
    "- $x' = Bx + t$,\n",
    "- $x′ = A \\bar x  = \\begin{bmatrix} a_{00} & a_{01} & a_{02} \\\\ a_{10} & a_{11} & a_{12} \\end{bmatrix} \\bar x,$\n",
    "\n",
    "where A is an arbitrary $2 \\times 3$ matrix.\n",
    "\n",
    "$\\color{#6D7D33}{\\text{Properties}}$: Affine transformations preserve:\n",
    "- parallelism.\n"
   ]
  },
  {
   "cell_type": "markdown",
   "metadata": {
    "slideshow": {
     "slide_type": "slide"
    }
   },
   "source": [
    "# 2D Transformations: Projective\n",
    "\n",
    "$\\color{#EF5645}{\\text{Projective transformation}}$, also called perspective transform or homography, operates on homogeneous coordinates:\n",
    "- $ \\bar x′ = \\bar H \\bar x,$\n",
    "where $\\bar H$ is an arbitrary $3 \\times 3$ matrix. \n",
    "\n",
    "$\\color{#EF5645}{\\text{Remark}}$: Note that $\\bar H$ is homogeneous, i.e., it is only defined up to a scale, and that two matrices that differ only by scale are equivalent. \n",
    "\n",
    "$\\color{#6D7D33}{\\text{Properties}}$: Projective transformations preserve:\n",
    "- straight lines (i.e., they remain straight after the transformation)."
   ]
  },
  {
   "cell_type": "markdown",
   "metadata": {
    "slideshow": {
     "slide_type": "slide"
    }
   },
   "source": [
    "# 2D Transformations\n",
    "\n",
    "Mathematically, they are Lie groups (github.com/geomstats/geomstats)\n",
    "\n",
    "<center><img src=\"figs/01_2Dtransf.png\" width=820px alt=\"default\"/></center>\n",
    "\n",
    "$\\color{#047C91}{\\text{Exercise}}$: For each transformation, list the degrees of freedom."
   ]
  },
  {
   "cell_type": "markdown",
   "metadata": {
    "slideshow": {
     "slide_type": "slide"
    }
   },
   "source": [
    "# 3D Transformations\n",
    "\n",
    "- Very similar to 2D transformations.\n",
    "\n",
    "<center><img src=\"figs/01_3Dtransf.png\" width=900px alt=\"default\"/></center>"
   ]
  },
  {
   "cell_type": "markdown",
   "metadata": {
    "slideshow": {
     "slide_type": "slide"
    }
   },
   "source": [
    "# 3D Transformations: Notes on 3D Rotations\n",
    "\n",
    "Biggest difference between 2D and 3D transformations:\n",
    "- Parameterization of the 3D rotation becomes complicated. \n",
    "- Several options:\n",
    "  - Rotation matrix\n",
    "  - Axis-angle rotation vector\n",
    "  - Euler angles\n",
    "  - Unit quaternions.\n"
   ]
  },
  {
   "cell_type": "markdown",
   "metadata": {
    "slideshow": {
     "slide_type": "slide"
    }
   },
   "source": [
    "# 3D Rotations - Euler Angles\n",
    "\n",
    "$\\color{#EF5645}{\\text{Euler Angles}}$: A rotation matrix $R$ can be formed as the product of three rotations around three cardinal axes, e.g., $x, y, z$, or $x, y, x$:\n",
    "$$R \n",
    "= R_x(\\alpha)R_y(\\beta)R_x(\\gamma)\n",
    "= \\begin{bmatrix}\n",
    "1 & 0 & 0 \\\\\n",
    "0 & \\cos \\alpha & - \\sin \\alpha \\\\\n",
    "0 & \\sin \\alpha & \\cos \\alpha \n",
    "\\end{bmatrix} \\begin{bmatrix}\n",
    "\\cos \\beta & 0 & - \\sin \\beta \\\\\n",
    "0 & 1 & 0 \\\\\n",
    "\\sin \\beta & 0 & \\cos \\beta\n",
    "\\end{bmatrix}\n",
    " \\begin{bmatrix}\n",
    "1 & 0 & 0 \\\\\n",
    "0 & \\cos \\gamma & - \\sin \\gamma \\\\\n",
    "0 & \\sin \\gamma & \\cos \\gamma \n",
    "\\end{bmatrix}.$$\n",
    "\n",
    "Warnings with Euler angles:\n",
    "- the result depends on the order in which the transforms are applied,\n",
    "- they can be given in extrinsic or intrinsic coordinates system.\n"
   ]
  },
  {
   "cell_type": "markdown",
   "metadata": {
    "slideshow": {
     "slide_type": "slide"
    }
   },
   "source": [
    "# 3D Rotations - Axis Angle Rotation Vector\n",
    "\n",
    "$\\color{#EF5645}{\\text{Axis Angle}}$: A 3D rotation can be represented by its rotation axis $u$ (unit vector) and its angle $\\theta \\in [0, \\pi]$, or equivalently by a 3D vector \n",
    "$$ω = \\theta u.$$\n",
    "\n",
    "$\\color{#047C91}{\\text{Exercise}}$: \n",
    "- Why is the angle $\\theta$ restricted in $[0, \\pi]$?\n",
    "- What is the 3D rotation described by $ω = \\frac{\\pi}{2}[1, 1, 0]$?"
   ]
  },
  {
   "cell_type": "markdown",
   "metadata": {
    "slideshow": {
     "slide_type": "slide"
    }
   },
   "source": [
    "# 3D Rotations - Unit Quaternions\n",
    "\n",
    "$\\color{#EF5645}{\\text{Unit quaternions}}$: A unit quaternion is a unit length 4-vector whose components can be written as $q =( x,y,z,w )$. For a rotation represented by its rotation axis $u$ and its angle $\\theta \\in [0, \\pi]$, its quaternion is:\n",
    "$$ q = \\left(\\cos \\frac{\\theta}{2}, \\sin \\frac{\\theta}{2} u_x, \\sin \\frac{\\theta}{2} u_y, \\sin \\frac{\\theta}{2} u_z\\right).$$\n",
    "\n",
    "\n",
    "Antipodal (opposite sign) quaternions, $q$ and $−q$, represent the same rotation.\n",
    "\n",
    "$\\color{#047C91}{\\text{Example}}$: Write the quaternion associated to the rotation of axis $\\frac{1}{\\sqrt{3}}(1, 1, 1)$ and angle $\\pi / 6$."
   ]
  },
  {
   "cell_type": "markdown",
   "metadata": {
    "slideshow": {
     "slide_type": "slide"
    }
   },
   "source": [
    "# Converting Between Representations\n",
    "\n",
    "$\\color{#047C91}{\\text{Exercise (at home)}}$: \n",
    "- Find conversions formulas between representations of rotations.\n",
    "- Check your results [using Geomstats to convert between different representations](https://github.com/geomstats/geomstats/blob/7c03eb37f3f3392b8d70426a0a038c049c038813/geomstats/geometry/special_orthogonal.py#L872). "
   ]
  },
  {
   "cell_type": "markdown",
   "metadata": {
    "slideshow": {
     "slide_type": "slide"
    }
   },
   "source": [
    "# Image Formation\n",
    "\n",
    "- [Math Vocabulary: Geometric Primitives and Transformations](#sec-syllabus)\n",
    "\n",
    "- **[Image Formation: 3D to 2D Projections](#sec-ece)**\n",
    "\n",
    "- [Image Formation: Camera Parameters](#sec-ece)\n",
    "\n",
    "<center><img src=\"figs/00_dip.jpeg\" width=600px alt=\"default\"/></center>"
   ]
  },
  {
   "cell_type": "markdown",
   "metadata": {
    "slideshow": {
     "slide_type": "slide"
    }
   },
   "source": [
    "# From a 3D World to 2D Images\n",
    "\n",
    "We describe:\n",
    "- how 3D primitives and transformations from the real-world...\n",
    "- ...are projected into 2D primitives and transformations onto the image plane.\n",
    "\n",
    "This will require:\n",
    "- geometry of the camera model describing the 3D to 2D projection,\n",
    "- intrinsic parameters of the camera."
   ]
  },
  {
   "cell_type": "markdown",
   "metadata": {
    "slideshow": {
     "slide_type": "slide"
    }
   },
   "source": [
    "# Pinhole Camera\n",
    "\n",
    "<center><img src=\"figs/01_pinhole.png\" width=900px alt=\"default\"/></center>\n",
    "\n",
    "Barrier:\n",
    "- reduces blurring\n",
    "- opening = pinhole = aperture = center of the camera"
   ]
  },
  {
   "cell_type": "markdown",
   "metadata": {
    "slideshow": {
     "slide_type": "slide"
    }
   },
   "source": [
    "# Pinhole Camera Model\n",
    "\n",
    "<center><img src=\"figs/01_pinhole2.png\" width=900px alt=\"default\"/></center>\n",
    "\n",
    "$\\color{#EF5645}{\\text{Definitions/Notations:}}$\n",
    "- $f$ = focal length\n",
    "- $[i, j, k]$ = camera reference or coordinate system\n",
    "- $\\Pi'$ = image or retina plane\n",
    "- C'O = optical axis\n",
    "- C' origin of 2D coordinates on the image plane"
   ]
  },
  {
   "cell_type": "markdown",
   "metadata": {
    "slideshow": {
     "slide_type": "slide"
    }
   },
   "source": [
    "# Pinhole Camera Model: Projection\n",
    "\n",
    "$\\color{#EF5645}{\\text{Projection}}$: Consider a 3D point $p=[x, y, z]^T$. The 3D to 2D projection defined by the pinhole camera model is:\n",
    "$$p' \n",
    "= \\begin{bmatrix} x' & y' \\end{bmatrix}^T \n",
    "= \\begin{bmatrix}f\\frac{x}{z} & f\\frac{y}{z}\\end{bmatrix}^T.$$\n",
    "\n",
    "$\\color{#047C91}{\\text{Exercise}}$: Prove the formula for the 3D to 2D projection of the pinhole camera model."
   ]
  },
  {
   "cell_type": "markdown",
   "metadata": {
    "slideshow": {
     "slide_type": "slide"
    }
   },
   "source": [
    "# Remark: Aperture Size\n",
    "\n",
    "In practice, the pinhole is not a single point."
   ]
  },
  {
   "cell_type": "markdown",
   "metadata": {
    "cell_style": "split"
   },
   "source": [
    "<center><img src=\"figs/01_aperture.png\" width=600px alt=\"default\"/></center>\n"
   ]
  },
  {
   "cell_type": "markdown",
   "metadata": {
    "cell_style": "split"
   },
   "source": [
    "<center><img src=\"figs/00_blackhole.jpg\" width=500px alt=\"default\"/></center>\n",
    "<center>Giant aperture.</center>"
   ]
  },
  {
   "cell_type": "markdown",
   "metadata": {
    "slideshow": {
     "slide_type": "-"
    }
   },
   "source": [
    "- Wider aperture: more light, but blurry image. \n",
    "- Add lenses !"
   ]
  },
  {
   "cell_type": "markdown",
   "metadata": {
    "slideshow": {
     "slide_type": "slide"
    }
   },
   "source": [
    "# Adding a Lens: Paraxial Refraction Model\n",
    "\n",
    "<center><img src=\"figs/01_lens.png\" width=900px alt=\"default\"/></center>\n",
    "\n",
    "- Lens focuses the light on the film.\n",
    "- There is a specific distance at which objects are \"in focus\"."
   ]
  },
  {
   "cell_type": "markdown",
   "metadata": {
    "slideshow": {
     "slide_type": "slide"
    }
   },
   "source": [
    "# Paraxial Refraction Model\n",
    "\n",
    "<center><img src=\"figs/01_lens2.png\" width=900px alt=\"default\"/></center>\n",
    "\n",
    "- Lens focuses the light on the film.\n",
    "- There is a specific distance at which objects are \"in focus\".\n",
    "- Lens focuses light rays parallel to the optical axis to the \"focal point\"."
   ]
  },
  {
   "cell_type": "markdown",
   "metadata": {
    "slideshow": {
     "slide_type": "slide"
    }
   },
   "source": [
    "# Paraxial Refraction Model: Projection\n",
    "\n",
    "$\\color{#EF5645}{\\text{Projection}}$: Consider a 3D point $p=[x, y, z]^T$. The 3D to 2D projection defined by the paraxial refraction model is:\n",
    "$$p' \n",
    "= \\begin{bmatrix} x' & y' \\end{bmatrix}^T \n",
    "= \\begin{bmatrix}(f+z_0)\\frac{x}{z} & (f+z_0)\\frac{y}{z}\\end{bmatrix}^T.$$\n",
    "\n",
    "$\\color{#047C91}{\\text{Remark}}$: The proof is beyond the scope of this class."
   ]
  },
  {
   "cell_type": "markdown",
   "metadata": {
    "slideshow": {
     "slide_type": "slide"
    }
   },
   "source": [
    "# Beyond 3D to 2D Projects\n",
    "\n",
    "Projections of 3D points into the image plane do not directly correspond to what we see in digital images. Digital images:\n",
    "- may use a reference (coordinate) system different from the image plane's,\n",
    "- are divided into discrete pixels, whereas points in the image plane are continuous,\n",
    "- may add distortion coming from nonlinearities introduced by the physical sensors.\n",
    "\n",
    "We introduce a simple model that addresses some of the points above."
   ]
  },
  {
   "cell_type": "markdown",
   "metadata": {
    "slideshow": {
     "slide_type": "slide"
    }
   },
   "source": [
    "# Image Formation\n",
    "\n",
    "- [Math Vocabulary: Geometric Primitives and Transformations](#sec-syllabus)\n",
    "\n",
    "- [Image Formation: 3D to 2D Projections](#sec-ece)\n",
    "\n",
    "- **[Image Formation: Camera Parameters](#sec-ece)**\n",
    "\n",
    "<center><img src=\"figs/00_dip.jpeg\" width=600px alt=\"default\"/></center>"
   ]
  },
  {
   "cell_type": "markdown",
   "metadata": {
    "slideshow": {
     "slide_type": "slide"
    }
   },
   "source": [
    "# Camera Matrix Model\n",
    "\n",
    "= describes how 3D world points are mapped to the digital image, by refining the camera paraxial model.\n",
    "\n",
    "$\\color{#EF5645}{\\text{Add offset parameters $c_x$ and $c_y$:}}$ Describe how image plane and digital image coordinates differ by a translation.\n",
    "  - Image plane coordinates: origin C′\n",
    "  - Digital image coordinates: origin at image's lower-left corner.\n",
    "\n",
    "The projection becomes: \n",
    "$$p' \n",
    "= \\begin{bmatrix} x' & y' \\end{bmatrix}^T \n",
    "= \\begin{bmatrix}(f+z_0)\\frac{x}{z} +c_x & (f+z_0)\\frac{y}{z}+c_y\\end{bmatrix}^T.$$"
   ]
  },
  {
   "cell_type": "markdown",
   "metadata": {
    "slideshow": {
     "slide_type": "slide"
    }
   },
   "source": [
    "# Camera Matrix Model\n",
    "\n",
    "= describes how 3D world points are mapped to the digital image, by refining the camera paraxial model.\n",
    "\n",
    "\n",
    "$\\color{#EF5645}{\\text{Add parameters $k$ and $l$ (e.g. in pixels/cm)}}$: Describe how image plane and digital image coordinates have different units:\n",
    "- points in image plane: physical measurements, e.g. cm\n",
    "- points in digital images are expressed in pixels\n",
    "\n",
    "\n",
    "The projection becomes: \n",
    "$$p' \n",
    "= \\begin{bmatrix} x' & y' \\end{bmatrix}^T \n",
    "= \\begin{bmatrix}(f+z_0)k\\frac{x}{z} +c_x & (f+z_0)l\\frac{y}{z}+c_y\\end{bmatrix}^T\n",
    "= \\begin{bmatrix}\\alpha\\frac{x}{z} +c_x & \\beta\\frac{y}{z}+c_y\\end{bmatrix}^T.$$"
   ]
  },
  {
   "cell_type": "markdown",
   "metadata": {
    "slideshow": {
     "slide_type": "slide"
    }
   },
   "source": [
    "# Going to Homogeneous Coordinates\n",
    "\n",
    "The projection, written in inhomogeneous coordinates: \n",
    "$$p' \n",
    "= \\begin{bmatrix} x' & y' \\end{bmatrix}^T \n",
    "= \\begin{bmatrix}(f+z_0)k\\frac{x}{z} +c_x & (f+z_0)l\\frac{y}{z}+c_y\\end{bmatrix}^T\n",
    "= \\begin{bmatrix}\\alpha\\frac{x}{z} +c_x & \\beta\\frac{y}{z}+c_y\\end{bmatrix}^T$$\n",
    "is not a linear operation.\n",
    "\n",
    "- Linear operations are interesting, as they allow us to use linear algebra.\n",
    "- We transform the nonlinear operation above into a linear operation...\n",
    "  - ...by using homogeneous coordinates."
   ]
  },
  {
   "cell_type": "markdown",
   "metadata": {
    "slideshow": {
     "slide_type": "slide"
    }
   },
   "source": [
    "# With Homogeneous Coordinates\n",
    "\n",
    "We write:\n",
    "- $\\bar p = [x, y, z, 1]$ the 3D point in the real world,\n",
    "- $\\bar p' = [x', y', 1]$ the 2D point in the digital image plane.\n",
    "\n",
    "The projection, written in homogeneous coordinates, becomes:\n",
    "$$\\bar p' \n",
    "= \\begin{bmatrix}\n",
    "\\alpha \\frac{x}{z} + c_x \\\\\n",
    "\\beta \\frac{y}{z} + c_y \\\\\n",
    "1\n",
    "\\end{bmatrix}\n",
    "= \\begin{bmatrix}\n",
    "\\alpha x + c_x z \\\\\n",
    "\\beta y + c_y z\\\\\n",
    "z\n",
    "\\end{bmatrix}\n",
    "= \n",
    "\\begin{bmatrix}\n",
    "\\alpha & 0 & c_x & 0 \\\\\n",
    "0 & \\beta & c_y & 0 \\\\\n",
    "0 & 0 & 1 & 0\n",
    "\\end{bmatrix}\n",
    "\\begin{bmatrix}\n",
    "x \\\\\n",
    "y \\\\\n",
    "z \\\\\n",
    "1\n",
    "\\end{bmatrix}\n",
    "= \\begin{bmatrix}\n",
    "\\alpha & 0 & c_x & 0 \\\\\n",
    "0 & \\beta & c_y & 0 \\\\\n",
    "0 & 0 & 1 & 0\n",
    "\\end{bmatrix}\n",
    "\\bar p\n",
    "= M \\bar p.\n",
    "$$\n",
    "The projection is now a linear operation, represented by the matrix $M$."
   ]
  },
  {
   "cell_type": "markdown",
   "metadata": {
    "slideshow": {
     "slide_type": "slide"
    }
   },
   "source": [
    "# Camera Matrix: Intrinsics\n",
    "\n",
    "$\\color{#EF5645}{\\text{Camera Matrix}}$: The projection writes, in homogeneous coordinates:\n",
    "$$\\bar p' \n",
    "= \\begin{bmatrix}\n",
    "\\alpha & 0 & c_x & 0 \\\\\n",
    "0 & \\beta & c_y & 0 \\\\\n",
    "0 & 0 & 1 & 0\n",
    "\\end{bmatrix}\n",
    "\\bar p\n",
    "= M \\bar p,\n",
    "$$\n",
    "which we can also write:\n",
    "$$\\bar p' \n",
    "= \n",
    "\\begin{bmatrix}\n",
    "\\alpha & 0 & c_x  \\\\\n",
    "0 & \\beta & c_y  \\\\\n",
    "0 & 0 & 1 \n",
    "\\end{bmatrix}\n",
    "\\begin{bmatrix}\n",
    "I_3 & 0\n",
    "\\end{bmatrix}\n",
    "\\bar p\n",
    "= K  \\begin{bmatrix}\n",
    "I_3 & 0\n",
    "\\end{bmatrix}\\bar p,\n",
    "$$\n",
    "where $I_3$ is the $3 \\times 3$ identity matrix.\n",
    "\n",
    "The matrix $K$ is refered to as the camera matrix. It contains the intrinsic camera parameters, that depend on the camera type, e.g. on its resolution."
   ]
  },
  {
   "cell_type": "markdown",
   "metadata": {
    "slideshow": {
     "slide_type": "slide"
    }
   },
   "source": [
    "# Camera Parameters: Extrinsics\n",
    "<center><img src=\"figs/01_pinhole2bis.png\" width=600px alt=\"default\"/></center>\n",
    "\n",
    "Until now, we assumed that:\n",
    "- world 3D point $p$ was in the camera coordinate system $[i, j, k]$.\n",
    "\n",
    "Now, we generalize:\n",
    "- $p_w$ may be observed in a different coordinate system."
   ]
  },
  {
   "cell_type": "markdown",
   "metadata": {
    "slideshow": {
     "slide_type": "slide"
    }
   },
   "source": [
    "# Camera Extrinsics\n",
    "\n",
    "The transformation $p_w \\rightarrow p$ is a 3D rigid-body transformation, which we write in homogeneous coordinates:\n",
    "$$\\bar p = \\begin{bmatrix}\n",
    "R & T \\\\\n",
    "0 & 1\n",
    "\\end{bmatrix} \\bar p_w\n",
    "$$\n",
    "\n",
    "The projection to the digital image plane becomes:\n",
    "$$\\bar p' \n",
    "= K  \\begin{bmatrix}\n",
    "I_3 & 0\n",
    "\\end{bmatrix}\\bar p\n",
    "= \n",
    "K  \\begin{bmatrix}\n",
    "I_3 & 0\n",
    "\\end{bmatrix}\n",
    "\\begin{bmatrix}\n",
    "R & T \\\\\n",
    "0 & 1\n",
    "\\end{bmatrix} \\bar p_w\n",
    "= M \\bar p_w\n",
    "$$\n",
    "$\\color{#EF5645}{\\text{Extrinsic Camera Parameters}}$: Parameters $R, T$ are known as the extrinsic camera parameters because they are external to and do not depend on the type of the camera."
   ]
  },
  {
   "cell_type": "markdown",
   "metadata": {
    "slideshow": {
     "slide_type": "slide"
    }
   },
   "source": [
    "# Summary\n",
    "\n",
    "The $3 \\times 4$ projection matrix $M$ has 10 degrees of freedom:\n",
    "- 4 from the intrinsic camera matrix $K$, \n",
    "- 3 from extrinsic rotation $R$, \n",
    "- 3 from extrinsic translation $T$.\n",
    "\n",
    "$\\color{#EF5645}{\\text{Remark}}$: We did not add distortion effects to this model."
   ]
  },
  {
   "cell_type": "markdown",
   "metadata": {
    "slideshow": {
     "slide_type": "slide"
    }
   },
   "source": [
    "# Application: Transformations Between Cameras"
   ]
  },
  {
   "cell_type": "markdown",
   "metadata": {
    "cell_style": "split"
   },
   "source": [
    "\n",
    "<center><img src=\"figs/01_homogeneous.png\" width=350px alt=\"default\"/></center>\n",
    "<center>Recall: Homogeneous coordinates</center>\n",
    "\n"
   ]
  },
  {
   "cell_type": "markdown",
   "metadata": {
    "cell_style": "split"
   },
   "source": [
    "<center><img src=\"figs/01_camera_calibration.png\" width=450px alt=\"default\"/></center>\n"
   ]
  },
  {
   "cell_type": "markdown",
   "metadata": {},
   "source": [
    "$\\color{#EF5645}{\\text{Homography}}$ If two cameras see points lying on a plane, a relationship between them can be easily found without going through explicit camera calibration. This relationship that relates the two cameras is called the homography."
   ]
  },
  {
   "cell_type": "markdown",
   "metadata": {
    "slideshow": {
     "slide_type": "slide"
    }
   },
   "source": [
    "# Application\n",
    "\n",
    "- The real world coordinate system is taken to be the first camera's system.\n",
    "- $n = (a, b, c)$ the normal to $\\pi$ with plane equation $ax + by + cz +1 = 0$.\n",
    "- Cameras are \"canonical\" ($K_1 = K_2 = I_3$): only model their relative position.\n",
    "- $\\bar p_1 = M_1 \\bar p_\\pi$, the projection of $\\bar p_\\pi$ as a digital image through camera 1\n",
    "- $\\bar p_2 = M_2 \\bar p_\\pi$, the projection of $\\bar p_\\pi$ as a digital image through camera 2\n",
    "\n",
    "Prove that:\n",
    "$\\bar p_2 = M_2 \\begin{bmatrix} I_3 \\\\ -n \\end{bmatrix} \\bar p_1.$\n",
    "\n",
    "<center><img src=\"figs/01_camera_calibration.png\" width=400px alt=\"default\"/></center>"
   ]
  },
  {
   "cell_type": "markdown",
   "metadata": {
    "slideshow": {
     "slide_type": "slide"
    }
   },
   "source": [
    "# Image Formation\n",
    "\n",
    "- [Math Vocabulary: Geometric Primitives and Transformations](#sec-syllabus)\n",
    "\n",
    "- [Image Formation: 3D to 2D Projections](#sec-ece)\n",
    "\n",
    "- [Image Formation: Camera Parameters](#sec-ece)\n",
    "\n",
    "Resource: Ch. 2 from \"Computer Vision: Algorithms and Applications.\"\n",
    "\n",
    "<center><img src=\"figs/00_dip.jpeg\" width=500px alt=\"default\"/></center>"
   ]
  }
 ],
 "metadata": {
  "celltoolbar": "Slideshow",
  "kernelspec": {
   "display_name": "Python 3 (ipykernel)",
   "language": "python",
   "name": "python3"
  },
  "language_info": {
   "codemirror_mode": {
    "name": "ipython",
    "version": 3
   },
   "file_extension": ".py",
   "mimetype": "text/x-python",
   "name": "python",
   "nbconvert_exporter": "python",
   "pygments_lexer": "ipython3",
   "version": "3.9.9"
  }
 },
 "nbformat": 4,
 "nbformat_minor": 2
}
